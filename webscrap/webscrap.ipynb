{
 "cells": [
  {
   "cell_type": "code",
   "execution_count": 1,
   "metadata": {
    "collapsed": true
   },
   "outputs": [
    {
     "name": "stdout",
     "output_type": "stream",
     "text": [
      "1969\n"
     ]
    }
   ],
   "source": [
    "import requests\n",
    "from bs4 import BeautifulSoup\n",
    "\n",
    "# Send a GET request to the webpage\n",
    "response = requests.get('https://www.echosupply.com/products/masking/plugs/silicone-tapered-plugs')\n",
    "\n",
    "# Create a BeautifulSoup object\n",
    "soup = BeautifulSoup(response.text, 'html.parser')\n",
    "\n",
    "# Find the hidden input field by its ID or other identifier\n",
    "hidden_input = soup.find('input', {'type': 'hidden'})#, 'id': 'user_id'})\n",
    "\n",
    "# Retrieve the value attribute of the hidden input field\n",
    "if hidden_input:\n",
    "    user_id = hidden_input.get('value')\n",
    "    print(user_id)\n",
    "else:\n",
    "    print(\"Hidden input field not found.\")\n"
   ]
  }
 ],
 "metadata": {
  "kernelspec": {
   "display_name": "Python 3",
   "language": "python",
   "name": "python3"
  },
  "language_info": {
   "codemirror_mode": {
    "name": "ipython",
    "version": 2
   },
   "file_extension": ".py",
   "mimetype": "text/x-python",
   "name": "python",
   "nbconvert_exporter": "python",
   "pygments_lexer": "ipython2",
   "version": "2.7.6"
  }
 },
 "nbformat": 4,
 "nbformat_minor": 0
}
