{
 "cells": [
  {
   "cell_type": "code",
   "execution_count": 1,
   "id": "initial_id",
   "metadata": {
    "collapsed": true,
    "ExecuteTime": {
     "end_time": "2023-11-15T13:52:54.898708800Z",
     "start_time": "2023-11-15T13:30:19.059040500Z"
    }
   },
   "outputs": [
    {
     "name": "stdout",
     "output_type": "stream",
     "text": [
      "pygame 2.5.2 (SDL 2.28.3, Python 3.11.5)\n",
      "Hello from the pygame community. https://www.pygame.org/contribute.html\n",
      "1\n",
      "2\n",
      "3\n",
      "4\n",
      "5\n",
      "6\n",
      "7\n",
      "8\n"
     ]
    }
   ],
   "source": [
    "import pygame\n",
    "\n",
    "\n",
    "def play_gong_sound():\n",
    "    t = 150\n",
    "    pygame.init()\n",
    "    pygame.mixer.init()\n",
    "    try:\n",
    "        gong_sound = pygame.mixer.Sound(\"singing-bowl-gong-69238.mp3\")  # Replace \"gong.wav\" with the path to your gong sound file\n",
    "    except pygame.error:\n",
    "        print(\"Error: Could not load or play the gong sound.\")\n",
    "    for k in range(8):\n",
    "        print(k+1)\n",
    "        \n",
    "            gong_sound.play()\n",
    "            pygame.time.wait(int(gong_sound.get_length() * 1000))  # Wait for the sound to finish playing\n",
    "        \n",
    "        #wait t seconds\n",
    "        pygame.time.wait(t*1000)\n",
    "    gong_sound.play()\n",
    "    gong_sound.play()   \n",
    "            \n",
    "    pygame.quit()\n",
    "\n",
    "if __name__ == \"__main__\":\n",
    "    play_gong_sound()\n",
    "   "
   ]
  }
 ],
 "metadata": {
  "kernelspec": {
   "display_name": "Python 3",
   "language": "python",
   "name": "python3"
  },
  "language_info": {
   "codemirror_mode": {
    "name": "ipython",
    "version": 2
   },
   "file_extension": ".py",
   "mimetype": "text/x-python",
   "name": "python",
   "nbconvert_exporter": "python",
   "pygments_lexer": "ipython2",
   "version": "2.7.6"
  }
 },
 "nbformat": 4,
 "nbformat_minor": 5
}
