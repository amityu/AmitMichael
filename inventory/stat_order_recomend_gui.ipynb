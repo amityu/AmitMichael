{
 "cells": [
  {
   "cell_type": "code",
   "execution_count": 1,
   "metadata": {
    "collapsed": true,
    "ExecuteTime": {
     "end_time": "2023-12-18T12:09:24.793490100Z",
     "start_time": "2023-12-18T12:09:04.963415700Z"
    }
   },
   "outputs": [],
   "source": [
    "import pandas as pd\n",
    "from statsmodels.tsa.holtwinters import ExponentialSmoothing\n",
    "import matplotlib.pyplot as plt\n",
    "from datetime import datetime\n",
    "import numpy as np\n",
    "import tkinter as tk\n",
    "from tkinter import ttk\n",
    "from matplotlib.backends.backend_tkagg import FigureCanvasTkAgg\n",
    "import matplotlib"
   ]
  },
  {
   "cell_type": "code",
   "execution_count": 2,
   "outputs": [
    {
     "ename": "FileNotFoundError",
     "evalue": "[Errno 2] No such file or directory: '../resources/inventory/customer_transactions.xlsx'",
     "output_type": "error",
     "traceback": [
      "\u001B[1;31m---------------------------------------------------------------------------\u001B[0m",
      "\u001B[1;31mFileNotFoundError\u001B[0m                         Traceback (most recent call last)",
      "Cell \u001B[1;32mIn[2], line 7\u001B[0m\n\u001B[0;32m      3\u001B[0m supplier_list \u001B[38;5;241m=\u001B[39m [\u001B[38;5;241m200051\u001B[39m]  \u001B[38;5;66;03m#200067 -julia, 200051 - donson\u001B[39;00m\n\u001B[0;32m      4\u001B[0m \u001B[38;5;66;03m# Needs to open files and save them again as xlsx inside the excel\u001B[39;00m\n\u001B[0;32m      5\u001B[0m \n\u001B[0;32m      6\u001B[0m \u001B[38;5;66;03m# important needs to delete first column of date which is empty\u001B[39;00m\n\u001B[1;32m----> 7\u001B[0m df \u001B[38;5;241m=\u001B[39m pd\u001B[38;5;241m.\u001B[39mread_excel(PATH \u001B[38;5;241m+\u001B[39m \u001B[38;5;124m'\u001B[39m\u001B[38;5;124mcustomer_transactions.xlsx\u001B[39m\u001B[38;5;124m'\u001B[39m, parse_dates\u001B[38;5;241m=\u001B[39m[\u001B[38;5;124m'\u001B[39m\u001B[38;5;124mDate\u001B[39m\u001B[38;5;124m'\u001B[39m])  \u001B[38;5;66;03m# inventory/transactions/reports/detailed/customer shipments\u001B[39;00m\n\u001B[0;32m      8\u001B[0m df\u001B[38;5;241m.\u001B[39mcolumns\u001B[38;5;241m.\u001B[39mvalues[\u001B[38;5;241m0\u001B[39m] \u001B[38;5;241m=\u001B[39m \u001B[38;5;124m'\u001B[39m\u001B[38;5;124mempty\u001B[39m\u001B[38;5;124m'\u001B[39m\n\u001B[0;32m      9\u001B[0m df\u001B[38;5;241m.\u001B[39mcolumns\u001B[38;5;241m.\u001B[39mvalues[\u001B[38;5;241m3\u001B[39m] \u001B[38;5;241m=\u001B[39m \u001B[38;5;124m'\u001B[39m\u001B[38;5;124mDate\u001B[39m\u001B[38;5;124m'\u001B[39m\n",
      "File \u001B[1;32m~\\anaconda3\\Lib\\site-packages\\pandas\\io\\excel\\_base.py:478\u001B[0m, in \u001B[0;36mread_excel\u001B[1;34m(io, sheet_name, header, names, index_col, usecols, dtype, engine, converters, true_values, false_values, skiprows, nrows, na_values, keep_default_na, na_filter, verbose, parse_dates, date_parser, date_format, thousands, decimal, comment, skipfooter, storage_options, dtype_backend)\u001B[0m\n\u001B[0;32m    476\u001B[0m \u001B[38;5;28;01mif\u001B[39;00m \u001B[38;5;129;01mnot\u001B[39;00m \u001B[38;5;28misinstance\u001B[39m(io, ExcelFile):\n\u001B[0;32m    477\u001B[0m     should_close \u001B[38;5;241m=\u001B[39m \u001B[38;5;28;01mTrue\u001B[39;00m\n\u001B[1;32m--> 478\u001B[0m     io \u001B[38;5;241m=\u001B[39m ExcelFile(io, storage_options\u001B[38;5;241m=\u001B[39mstorage_options, engine\u001B[38;5;241m=\u001B[39mengine)\n\u001B[0;32m    479\u001B[0m \u001B[38;5;28;01melif\u001B[39;00m engine \u001B[38;5;129;01mand\u001B[39;00m engine \u001B[38;5;241m!=\u001B[39m io\u001B[38;5;241m.\u001B[39mengine:\n\u001B[0;32m    480\u001B[0m     \u001B[38;5;28;01mraise\u001B[39;00m \u001B[38;5;167;01mValueError\u001B[39;00m(\n\u001B[0;32m    481\u001B[0m         \u001B[38;5;124m\"\u001B[39m\u001B[38;5;124mEngine should not be specified when passing \u001B[39m\u001B[38;5;124m\"\u001B[39m\n\u001B[0;32m    482\u001B[0m         \u001B[38;5;124m\"\u001B[39m\u001B[38;5;124man ExcelFile - ExcelFile already has the engine set\u001B[39m\u001B[38;5;124m\"\u001B[39m\n\u001B[0;32m    483\u001B[0m     )\n",
      "File \u001B[1;32m~\\anaconda3\\Lib\\site-packages\\pandas\\io\\excel\\_base.py:1496\u001B[0m, in \u001B[0;36mExcelFile.__init__\u001B[1;34m(self, path_or_buffer, engine, storage_options)\u001B[0m\n\u001B[0;32m   1494\u001B[0m     ext \u001B[38;5;241m=\u001B[39m \u001B[38;5;124m\"\u001B[39m\u001B[38;5;124mxls\u001B[39m\u001B[38;5;124m\"\u001B[39m\n\u001B[0;32m   1495\u001B[0m \u001B[38;5;28;01melse\u001B[39;00m:\n\u001B[1;32m-> 1496\u001B[0m     ext \u001B[38;5;241m=\u001B[39m inspect_excel_format(\n\u001B[0;32m   1497\u001B[0m         content_or_path\u001B[38;5;241m=\u001B[39mpath_or_buffer, storage_options\u001B[38;5;241m=\u001B[39mstorage_options\n\u001B[0;32m   1498\u001B[0m     )\n\u001B[0;32m   1499\u001B[0m     \u001B[38;5;28;01mif\u001B[39;00m ext \u001B[38;5;129;01mis\u001B[39;00m \u001B[38;5;28;01mNone\u001B[39;00m:\n\u001B[0;32m   1500\u001B[0m         \u001B[38;5;28;01mraise\u001B[39;00m \u001B[38;5;167;01mValueError\u001B[39;00m(\n\u001B[0;32m   1501\u001B[0m             \u001B[38;5;124m\"\u001B[39m\u001B[38;5;124mExcel file format cannot be determined, you must specify \u001B[39m\u001B[38;5;124m\"\u001B[39m\n\u001B[0;32m   1502\u001B[0m             \u001B[38;5;124m\"\u001B[39m\u001B[38;5;124man engine manually.\u001B[39m\u001B[38;5;124m\"\u001B[39m\n\u001B[0;32m   1503\u001B[0m         )\n",
      "File \u001B[1;32m~\\anaconda3\\Lib\\site-packages\\pandas\\io\\excel\\_base.py:1371\u001B[0m, in \u001B[0;36minspect_excel_format\u001B[1;34m(content_or_path, storage_options)\u001B[0m\n\u001B[0;32m   1368\u001B[0m \u001B[38;5;28;01mif\u001B[39;00m \u001B[38;5;28misinstance\u001B[39m(content_or_path, \u001B[38;5;28mbytes\u001B[39m):\n\u001B[0;32m   1369\u001B[0m     content_or_path \u001B[38;5;241m=\u001B[39m BytesIO(content_or_path)\n\u001B[1;32m-> 1371\u001B[0m \u001B[38;5;28;01mwith\u001B[39;00m get_handle(\n\u001B[0;32m   1372\u001B[0m     content_or_path, \u001B[38;5;124m\"\u001B[39m\u001B[38;5;124mrb\u001B[39m\u001B[38;5;124m\"\u001B[39m, storage_options\u001B[38;5;241m=\u001B[39mstorage_options, is_text\u001B[38;5;241m=\u001B[39m\u001B[38;5;28;01mFalse\u001B[39;00m\n\u001B[0;32m   1373\u001B[0m ) \u001B[38;5;28;01mas\u001B[39;00m handle:\n\u001B[0;32m   1374\u001B[0m     stream \u001B[38;5;241m=\u001B[39m handle\u001B[38;5;241m.\u001B[39mhandle\n\u001B[0;32m   1375\u001B[0m     stream\u001B[38;5;241m.\u001B[39mseek(\u001B[38;5;241m0\u001B[39m)\n",
      "File \u001B[1;32m~\\anaconda3\\Lib\\site-packages\\pandas\\io\\common.py:868\u001B[0m, in \u001B[0;36mget_handle\u001B[1;34m(path_or_buf, mode, encoding, compression, memory_map, is_text, errors, storage_options)\u001B[0m\n\u001B[0;32m    859\u001B[0m         handle \u001B[38;5;241m=\u001B[39m \u001B[38;5;28mopen\u001B[39m(\n\u001B[0;32m    860\u001B[0m             handle,\n\u001B[0;32m    861\u001B[0m             ioargs\u001B[38;5;241m.\u001B[39mmode,\n\u001B[1;32m   (...)\u001B[0m\n\u001B[0;32m    864\u001B[0m             newline\u001B[38;5;241m=\u001B[39m\u001B[38;5;124m\"\u001B[39m\u001B[38;5;124m\"\u001B[39m,\n\u001B[0;32m    865\u001B[0m         )\n\u001B[0;32m    866\u001B[0m     \u001B[38;5;28;01melse\u001B[39;00m:\n\u001B[0;32m    867\u001B[0m         \u001B[38;5;66;03m# Binary mode\u001B[39;00m\n\u001B[1;32m--> 868\u001B[0m         handle \u001B[38;5;241m=\u001B[39m \u001B[38;5;28mopen\u001B[39m(handle, ioargs\u001B[38;5;241m.\u001B[39mmode)\n\u001B[0;32m    869\u001B[0m     handles\u001B[38;5;241m.\u001B[39mappend(handle)\n\u001B[0;32m    871\u001B[0m \u001B[38;5;66;03m# Convert BytesIO or file objects passed with an encoding\u001B[39;00m\n",
      "\u001B[1;31mFileNotFoundError\u001B[0m: [Errno 2] No such file or directory: '../resources/inventory/customer_transactions.xlsx'"
     ]
    }
   ],
   "source": [
    "\n",
    "#   --------------------------- parameters and data --------------\n",
    "PATH = '../resources/inventory/'\n",
    "supplier_list = [200051]  #200067 -julia, 200051 - donson\n",
    "# Needs to open files and save them again as xlsx inside the excel\n",
    "\n",
    "# important needs to delete first column of date which is empty\n",
    "df = pd.read_excel(PATH + 'customer_transactions.xlsx', parse_dates=['Date'])  # inventory/transactions/reports/detailed/customer shipments\n",
    "df.columns.values[0] = 'empty'\n",
    "df.columns.values[3] = 'Date'\n",
    "\n",
    "purchase_data_df = pd.read_excel(PATH + 'purchase_parameters.xlsx')#  invetory/part catalog/part parameter/purchae MRP parameters for parts\n",
    "purchase_data_df = purchase_data_df[purchase_data_df['Preferred Vendor'].isin(supplier_list)]\n",
    "availability_df = pd.read_excel(PATH + 'availability.xlsx')  # inventory/part catalog/parts report/ parts availability detailed\n",
    "#start_date = '07/12/21'  # all information retrieved from the ERP# software will be discarded. format 'dd\\mm\\yy'\n",
    "#start_date = start_date.split('/')[0] + '/' + start_date.split('/')[1] + '/' + start_date.split('/')[2]  # changing order\n"
   ],
   "metadata": {
    "collapsed": false,
    "ExecuteTime": {
     "end_time": "2023-12-18T12:09:25.374010200Z",
     "start_time": "2023-12-18T12:09:24.793490100Z"
    }
   }
  },
  {
   "cell_type": "code",
   "execution_count": 39,
   "outputs": [
    {
     "name": "stdout",
     "output_type": "stream",
     "text": [
      "Mouse wheel scrolled down\n",
      "Mouse wheel scrolled down\n",
      "error with   part:  UW-M12\n",
      "index 1 is out of bounds for axis 0 with size 1\n",
      "Mouse wheel scrolled down\n",
      "Mouse wheel scrolled down\n",
      "error with   part:  UFP00157\n",
      "index 0 is out of bounds for axis 0 with size 0\n",
      "Mouse wheel scrolled up\n",
      "Mouse wheel scrolled down\n",
      "error with   part:  UFP00157\n",
      "index 0 is out of bounds for axis 0 with size 0\n",
      "Mouse wheel scrolled down\n",
      "error with   part:  STP-0131-2000H\n",
      "index 0 is out of bounds for axis 0 with size 0\n",
      "Mouse wheel scrolled down\n",
      "Mouse wheel scrolled down\n",
      "error with   part:  STP-0129-1535H\n",
      "index 1 is out of bounds for axis 0 with size 1\n",
      "Mouse wheel scrolled down\n",
      "error with   part:  STP-0129-1378H\n",
      "index 0 is out of bounds for axis 0 with size 0\n",
      "Mouse wheel scrolled down\n",
      "Mouse wheel scrolled down\n",
      "Mouse wheel scrolled down\n",
      "Mouse wheel scrolled down\n",
      "error with   part:  STP-0124-1575A\n",
      "index 1 is out of bounds for axis 0 with size 1\n",
      "Mouse wheel scrolled down\n",
      "Mouse wheel scrolled down\n",
      "error with   part:  STP-0123-1000H\n",
      "index 1 is out of bounds for axis 0 with size 1\n",
      "Mouse wheel scrolled down\n",
      "Mouse wheel scrolled up\n",
      "error with   part:  STP-0123-1000H\n",
      "index 1 is out of bounds for axis 0 with size 1\n",
      "Mouse wheel scrolled up\n",
      "Mouse wheel scrolled up\n",
      "error with   part:  STP-0124-1575A\n",
      "index 1 is out of bounds for axis 0 with size 1\n",
      "Mouse wheel scrolled up\n",
      "Mouse wheel scrolled up\n",
      "Mouse wheel scrolled up\n",
      "Mouse wheel scrolled up\n",
      "error with   part:  STP-0129-1378H\n",
      "index 0 is out of bounds for axis 0 with size 0\n"
     ]
    },
    {
     "data": {
      "text/plain": "<Figure size 640x480 with 1 Axes>",
      "image/png": "[encoded data removed]"
     },
     "metadata": {},
     "output_type": "display_data"
    }
   ],
   "source": [
    "pn_list = list(purchase_data_df['Part Number'].unique())\n",
    "my_order = np.zeros(len(pn_list))\n",
    "order_part_list =np.zeros(len(pn_list), dtype=object)\n",
    "forcast_steps = 12\n",
    "avail_list = np.zeros(len(pn_list))\n",
    "security_stock_list = np.zeros(len(pn_list))\n",
    "recommended_order_list = np.zeros(len(pn_list))\n",
    "sampling_period = 'M'\n",
    "how_many_weeks = 4\n",
    "start_date = '2016-07-01'\n",
    "forecast_list = np.zeros(len(pn_list))\n",
    "train_test_ratio = 1\n",
    "#pn_list = ['A12-1016', 'A12-1270']\n",
    "part_index = 0\n",
    "fig, ax = plt.subplots()\n",
    "#fig.patch.set_facecolor('black')\n",
    "ax.set_facecolor('black')\n",
    "\n",
    "part_index = 0\n",
    "def plot_reccomendation():\n",
    "    global part_index, part_order_recomendation\n",
    "\n",
    "    ax.title.set_text(pn_list[part_index])\n",
    "\n",
    "    part = pn_list[part_index]\n",
    "    history_df = df[df['Part Number'] == part ][['Date', 'Quantity']]\n",
    "    history_df = history_df[history_df['Date'] > start_date]\n",
    "\n",
    "    history_df = history_df.set_index('Date')\n",
    "    history_df = history_df.resample(sampling_period).sum()\n",
    "\n",
    "    data = history_df['Quantity']\n",
    "    # Split data into training and test sets\n",
    "    train, test = data[:int(len(data)*train_test_ratio)], data[int(len(data)*train_test_ratio):]\n",
    "\n",
    "    # Fit the model\n",
    "    try:\n",
    "        model = ExponentialSmoothing(train, trend='add', seasonal=None,seasonal_periods=1)\n",
    "        model_fit = model.fit()\n",
    "        order_part_list[part_index] = part\n",
    "        forecast_list[part_index]=model_fit.forecast(forcast_steps).sum()\n",
    "        avail_list[part_index] = availability_df[availability_df['Part Number'] == part]['Quantity'].values[0]\n",
    "\n",
    "        recommended_order_list[part_index]=round(forecast_list[part_index]-avail_list[part_index])\n",
    "        part_order_recomendation = round(forecast_list[part_index]-avail_list[part_index])\n",
    "        update_text()\n",
    "        # Forecast\n",
    "        pred = model_fit.predict(start=train.index[-1], end=train.index[-1] + pd.Timedelta(weeks=forcast_steps*how_many_weeks))\n",
    "        train = train.resample('2W').sum()\n",
    "        test = test.resample('2W').sum()\n",
    "        pred = pred.resample('2W').sum()\n",
    "\n",
    "        # Plot the results\n",
    "        plt.cla()\n",
    "        ax.plot(train.index, train, label='Train', color='yellow')\n",
    "        ax.plot(test.index, test, label='Test', color='blue')\n",
    "        ax.plot(pred.index, pred, label='Holt-Winters', color='red')\n",
    "        ax.legend(loc='best')\n",
    "        plt.xticks(rotation=45)\n",
    "        ax.set_title(part)\n",
    "    except Exception as e:\n",
    "            print('error with   part: ', part)\n",
    "            print(e)\n",
    "            part_order_recomendation = 0\n",
    "            forecast_list[part_index] = 0\n",
    "            avail_list[part_index] = 0\n",
    "            recommended_order_list[part_index] = 0\n",
    "    update_text()\n",
    "    canvas.draw()\n",
    "\n",
    "\n",
    "\n",
    "def on_button_click():\n",
    "    root.destroy()\n",
    "\n",
    "def on_mouse_wheel(event):\n",
    "    global part_index\n",
    "    entry.delete(0, tk.END)\n",
    "    if event.delta > 0:\n",
    "        print(\"Mouse wheel scrolled up\")\n",
    "        part_index += 1\n",
    "    else:\n",
    "        part_index -= 1\n",
    "        print(\"Mouse wheel scrolled down\")\n",
    "    part_index = part_index % len(pn_list)\n",
    "    entry.insert(0, str(my_order[part_index]))\n",
    "    plot_reccomendation()\n",
    "\n",
    "\n",
    "def on_toggle():\n",
    "    global train_test_ratio\n",
    "    state = validation.get()\n",
    "    if state:\n",
    "        train_test_ratio = 0.7\n",
    "    else:\n",
    "        train_test_ratio = 1\n",
    "    plot_reccomendation()\n",
    "\n",
    "\n",
    "root = tk.Tk()\n",
    "root.title(\"Purchase oreder recommendation\")\n",
    "\n",
    "validation = tk.BooleanVar()\n",
    "toggle_button = tk.Checkbutton(root, text=\"Validation\", variable=validation, command=on_toggle)\n",
    "toggle_button.pack(pady=5)\n",
    "\n",
    "def on_enter(event):\n",
    "    global my_order\n",
    "    my_order[part_index] = int(entry.get())\n",
    "\n",
    "# Create an input text field\n",
    "entry = tk.Entry(root)\n",
    "entry.bind(\"<Return>\", on_enter)\n",
    "\n",
    "entry.pack(pady=10)\n",
    "\n",
    "# Create a button\n",
    "button = tk.Button(root, text=\"Save\", command=on_button_click)\n",
    "button.pack(pady=5)\n",
    "\n",
    "# Bind mouse wheel event to the root window\n",
    "root.bind(\"<MouseWheel>\", on_mouse_wheel)\n",
    "def update_text():\n",
    "    global part_order_recomendation\n",
    "    dynamic_text.set(\"forecast recommendation: %s  available %d\" %( str(part_order_recomendation), avail_list[part_index]))\n",
    "\n",
    "# Create a StringVar variable and set its initial value\n",
    "dynamic_text = tk.StringVar()\n",
    "\n",
    "# Create a Label widget and associate it with the StringVar variable\n",
    "label = tk.Label(root, textvariable=dynamic_text, font=(\"Arial\", 12))\n",
    "label.pack()\n",
    "\n",
    "canvas = FigureCanvasTkAgg(fig, master=root)\n",
    "canvas.draw()\n",
    "canvas.get_tk_widget().pack()\n",
    "# Start the main event loop\n",
    "root.mainloop()\n",
    "\n",
    "\n",
    "#fig.canvas.mpl_connect('key_press_event', on_key)\n",
    "#plt.show()\n"
   ],
   "metadata": {
    "collapsed": false,
    "ExecuteTime": {
     "end_time": "2023-07-26T10:07:48.130955700Z",
     "start_time": "2023-07-26T10:07:29.944850100Z"
    }
   }
  },
  {
   "cell_type": "code",
   "execution_count": 33,
   "outputs": [
    {
     "ename": "ValueError",
     "evalue": "All arrays must be of the same length",
     "output_type": "error",
     "traceback": [
      "\u001B[1;31m---------------------------------------------------------------------------\u001B[0m",
      "\u001B[1;31mValueError\u001B[0m                                Traceback (most recent call last)",
      "Cell \u001B[1;32mIn[33], line 3\u001B[0m\n\u001B[0;32m      1\u001B[0m current_time \u001B[38;5;241m=\u001B[39m datetime\u001B[38;5;241m.\u001B[39mnow()\u001B[38;5;241m.\u001B[39mstrftime(\u001B[38;5;124m\"\u001B[39m\u001B[38;5;124m%\u001B[39m\u001B[38;5;124mY-\u001B[39m\u001B[38;5;124m%\u001B[39m\u001B[38;5;124mm-\u001B[39m\u001B[38;5;132;01m%d\u001B[39;00m\u001B[38;5;124m_\u001B[39m\u001B[38;5;124m%\u001B[39m\u001B[38;5;124mH-\u001B[39m\u001B[38;5;124m%\u001B[39m\u001B[38;5;124mM-\u001B[39m\u001B[38;5;124m%\u001B[39m\u001B[38;5;124mS\u001B[39m\u001B[38;5;124m\"\u001B[39m)\n\u001B[1;32m----> 3\u001B[0m order_df \u001B[38;5;241m=\u001B[39m \u001B[43mpd\u001B[49m\u001B[38;5;241;43m.\u001B[39;49m\u001B[43mDataFrame\u001B[49m\u001B[43m(\u001B[49m\u001B[43m{\u001B[49m\u001B[38;5;124;43m'\u001B[39;49m\u001B[38;5;124;43mPart Number\u001B[39;49m\u001B[38;5;124;43m'\u001B[39;49m\u001B[43m:\u001B[49m\u001B[43m \u001B[49m\u001B[43morder_part_list\u001B[49m\u001B[43m,\u001B[49m\u001B[43m \u001B[49m\u001B[38;5;124;43m'\u001B[39;49m\u001B[38;5;124;43mForecast\u001B[39;49m\u001B[38;5;124;43m'\u001B[39;49m\u001B[43m:\u001B[49m\u001B[43m \u001B[49m\u001B[43mforecast_list\u001B[49m\u001B[43m,\u001B[49m\u001B[43m \u001B[49m\u001B[38;5;124;43m'\u001B[39;49m\u001B[38;5;124;43mAvailability\u001B[39;49m\u001B[38;5;124;43m'\u001B[39;49m\u001B[43m:\u001B[49m\u001B[43m \u001B[49m\u001B[43mavail_list\u001B[49m\u001B[43m,\u001B[49m\u001B[43m \u001B[49m\u001B[38;5;124;43m'\u001B[39;49m\u001B[38;5;124;43mRecommended Order\u001B[39;49m\u001B[38;5;124;43m'\u001B[39;49m\u001B[43m:\u001B[49m\u001B[43m \u001B[49m\u001B[43mrecommended_order_list\u001B[49m\u001B[43m,\u001B[49m\u001B[43m \u001B[49m\u001B[38;5;124;43m'\u001B[39;49m\u001B[38;5;124;43mmy_order\u001B[39;49m\u001B[38;5;124;43m'\u001B[39;49m\u001B[43m:\u001B[49m\u001B[43m \u001B[49m\u001B[43mmy_order\u001B[49m\u001B[43m}\u001B[49m\u001B[43m)\u001B[49m\n\u001B[0;32m      4\u001B[0m order_df\u001B[38;5;241m.\u001B[39mto_excel(PATH \u001B[38;5;241m+\u001B[39m \u001B[38;5;124m'\u001B[39m\u001B[38;5;124morder\u001B[39m\u001B[38;5;132;01m%s\u001B[39;00m\u001B[38;5;124m.xlsx\u001B[39m\u001B[38;5;124m'\u001B[39m\u001B[38;5;241m%\u001B[39mcurrent_time, index\u001B[38;5;241m=\u001B[39m\u001B[38;5;28;01mFalse\u001B[39;00m)\n\u001B[0;32m      5\u001B[0m order_parameter \u001B[38;5;241m=\u001B[39m{\u001B[38;5;124m'\u001B[39m\u001B[38;5;124mstart_date\u001B[39m\u001B[38;5;124m'\u001B[39m : start_date, \u001B[38;5;124m'\u001B[39m\u001B[38;5;124msampling_period\u001B[39m\u001B[38;5;124m'\u001B[39m : sampling_period, \u001B[38;5;124m'\u001B[39m\u001B[38;5;124mforcast_steps\u001B[39m\u001B[38;5;124m'\u001B[39m : forcast_steps, \u001B[38;5;124m'\u001B[39m\u001B[38;5;124mtrain_test_ratio\u001B[39m\u001B[38;5;124m'\u001B[39m : train_test_ratio, \u001B[38;5;124m'\u001B[39m\u001B[38;5;124msupplier_list\u001B[39m\u001B[38;5;124m'\u001B[39m : supplier_list}\n",
      "File \u001B[1;32m~\\anaconda3\\envs\\AmitMichael\\lib\\site-packages\\pandas\\core\\frame.py:664\u001B[0m, in \u001B[0;36mDataFrame.__init__\u001B[1;34m(self, data, index, columns, dtype, copy)\u001B[0m\n\u001B[0;32m    658\u001B[0m     mgr \u001B[38;5;241m=\u001B[39m \u001B[38;5;28mself\u001B[39m\u001B[38;5;241m.\u001B[39m_init_mgr(\n\u001B[0;32m    659\u001B[0m         data, axes\u001B[38;5;241m=\u001B[39m{\u001B[38;5;124m\"\u001B[39m\u001B[38;5;124mindex\u001B[39m\u001B[38;5;124m\"\u001B[39m: index, \u001B[38;5;124m\"\u001B[39m\u001B[38;5;124mcolumns\u001B[39m\u001B[38;5;124m\"\u001B[39m: columns}, dtype\u001B[38;5;241m=\u001B[39mdtype, copy\u001B[38;5;241m=\u001B[39mcopy\n\u001B[0;32m    660\u001B[0m     )\n\u001B[0;32m    662\u001B[0m \u001B[38;5;28;01melif\u001B[39;00m \u001B[38;5;28misinstance\u001B[39m(data, \u001B[38;5;28mdict\u001B[39m):\n\u001B[0;32m    663\u001B[0m     \u001B[38;5;66;03m# GH#38939 de facto copy defaults to False only in non-dict cases\u001B[39;00m\n\u001B[1;32m--> 664\u001B[0m     mgr \u001B[38;5;241m=\u001B[39m \u001B[43mdict_to_mgr\u001B[49m\u001B[43m(\u001B[49m\u001B[43mdata\u001B[49m\u001B[43m,\u001B[49m\u001B[43m \u001B[49m\u001B[43mindex\u001B[49m\u001B[43m,\u001B[49m\u001B[43m \u001B[49m\u001B[43mcolumns\u001B[49m\u001B[43m,\u001B[49m\u001B[43m \u001B[49m\u001B[43mdtype\u001B[49m\u001B[38;5;241;43m=\u001B[39;49m\u001B[43mdtype\u001B[49m\u001B[43m,\u001B[49m\u001B[43m \u001B[49m\u001B[43mcopy\u001B[49m\u001B[38;5;241;43m=\u001B[39;49m\u001B[43mcopy\u001B[49m\u001B[43m,\u001B[49m\u001B[43m \u001B[49m\u001B[43mtyp\u001B[49m\u001B[38;5;241;43m=\u001B[39;49m\u001B[43mmanager\u001B[49m\u001B[43m)\u001B[49m\n\u001B[0;32m    665\u001B[0m \u001B[38;5;28;01melif\u001B[39;00m \u001B[38;5;28misinstance\u001B[39m(data, ma\u001B[38;5;241m.\u001B[39mMaskedArray):\n\u001B[0;32m    666\u001B[0m     \u001B[38;5;28;01mimport\u001B[39;00m \u001B[38;5;21;01mnumpy\u001B[39;00m\u001B[38;5;21;01m.\u001B[39;00m\u001B[38;5;21;01mma\u001B[39;00m\u001B[38;5;21;01m.\u001B[39;00m\u001B[38;5;21;01mmrecords\u001B[39;00m \u001B[38;5;28;01mas\u001B[39;00m \u001B[38;5;21;01mmrecords\u001B[39;00m\n",
      "File \u001B[1;32m~\\anaconda3\\envs\\AmitMichael\\lib\\site-packages\\pandas\\core\\internals\\construction.py:493\u001B[0m, in \u001B[0;36mdict_to_mgr\u001B[1;34m(data, index, columns, dtype, typ, copy)\u001B[0m\n\u001B[0;32m    489\u001B[0m     \u001B[38;5;28;01melse\u001B[39;00m:\n\u001B[0;32m    490\u001B[0m         \u001B[38;5;66;03m# dtype check to exclude e.g. range objects, scalars\u001B[39;00m\n\u001B[0;32m    491\u001B[0m         arrays \u001B[38;5;241m=\u001B[39m [x\u001B[38;5;241m.\u001B[39mcopy() \u001B[38;5;28;01mif\u001B[39;00m \u001B[38;5;28mhasattr\u001B[39m(x, \u001B[38;5;124m\"\u001B[39m\u001B[38;5;124mdtype\u001B[39m\u001B[38;5;124m\"\u001B[39m) \u001B[38;5;28;01melse\u001B[39;00m x \u001B[38;5;28;01mfor\u001B[39;00m x \u001B[38;5;129;01min\u001B[39;00m arrays]\n\u001B[1;32m--> 493\u001B[0m \u001B[38;5;28;01mreturn\u001B[39;00m \u001B[43marrays_to_mgr\u001B[49m\u001B[43m(\u001B[49m\u001B[43marrays\u001B[49m\u001B[43m,\u001B[49m\u001B[43m \u001B[49m\u001B[43mcolumns\u001B[49m\u001B[43m,\u001B[49m\u001B[43m \u001B[49m\u001B[43mindex\u001B[49m\u001B[43m,\u001B[49m\u001B[43m \u001B[49m\u001B[43mdtype\u001B[49m\u001B[38;5;241;43m=\u001B[39;49m\u001B[43mdtype\u001B[49m\u001B[43m,\u001B[49m\u001B[43m \u001B[49m\u001B[43mtyp\u001B[49m\u001B[38;5;241;43m=\u001B[39;49m\u001B[43mtyp\u001B[49m\u001B[43m,\u001B[49m\u001B[43m \u001B[49m\u001B[43mconsolidate\u001B[49m\u001B[38;5;241;43m=\u001B[39;49m\u001B[43mcopy\u001B[49m\u001B[43m)\u001B[49m\n",
      "File \u001B[1;32m~\\anaconda3\\envs\\AmitMichael\\lib\\site-packages\\pandas\\core\\internals\\construction.py:118\u001B[0m, in \u001B[0;36marrays_to_mgr\u001B[1;34m(arrays, columns, index, dtype, verify_integrity, typ, consolidate)\u001B[0m\n\u001B[0;32m    115\u001B[0m \u001B[38;5;28;01mif\u001B[39;00m verify_integrity:\n\u001B[0;32m    116\u001B[0m     \u001B[38;5;66;03m# figure out the index, if necessary\u001B[39;00m\n\u001B[0;32m    117\u001B[0m     \u001B[38;5;28;01mif\u001B[39;00m index \u001B[38;5;129;01mis\u001B[39;00m \u001B[38;5;28;01mNone\u001B[39;00m:\n\u001B[1;32m--> 118\u001B[0m         index \u001B[38;5;241m=\u001B[39m \u001B[43m_extract_index\u001B[49m\u001B[43m(\u001B[49m\u001B[43marrays\u001B[49m\u001B[43m)\u001B[49m\n\u001B[0;32m    119\u001B[0m     \u001B[38;5;28;01melse\u001B[39;00m:\n\u001B[0;32m    120\u001B[0m         index \u001B[38;5;241m=\u001B[39m ensure_index(index)\n",
      "File \u001B[1;32m~\\anaconda3\\envs\\AmitMichael\\lib\\site-packages\\pandas\\core\\internals\\construction.py:666\u001B[0m, in \u001B[0;36m_extract_index\u001B[1;34m(data)\u001B[0m\n\u001B[0;32m    664\u001B[0m lengths \u001B[38;5;241m=\u001B[39m \u001B[38;5;28mlist\u001B[39m(\u001B[38;5;28mset\u001B[39m(raw_lengths))\n\u001B[0;32m    665\u001B[0m \u001B[38;5;28;01mif\u001B[39;00m \u001B[38;5;28mlen\u001B[39m(lengths) \u001B[38;5;241m>\u001B[39m \u001B[38;5;241m1\u001B[39m:\n\u001B[1;32m--> 666\u001B[0m     \u001B[38;5;28;01mraise\u001B[39;00m \u001B[38;5;167;01mValueError\u001B[39;00m(\u001B[38;5;124m\"\u001B[39m\u001B[38;5;124mAll arrays must be of the same length\u001B[39m\u001B[38;5;124m\"\u001B[39m)\n\u001B[0;32m    668\u001B[0m \u001B[38;5;28;01mif\u001B[39;00m have_dicts:\n\u001B[0;32m    669\u001B[0m     \u001B[38;5;28;01mraise\u001B[39;00m \u001B[38;5;167;01mValueError\u001B[39;00m(\n\u001B[0;32m    670\u001B[0m         \u001B[38;5;124m\"\u001B[39m\u001B[38;5;124mMixing dicts with non-Series may lead to ambiguous ordering.\u001B[39m\u001B[38;5;124m\"\u001B[39m\n\u001B[0;32m    671\u001B[0m     )\n",
      "\u001B[1;31mValueError\u001B[0m: All arrays must be of the same length"
     ]
    }
   ],
   "source": [
    "\n",
    "current_time = datetime.now().strftime(\"%Y-%m-%d_%H-%M-%S\")\n",
    "\n",
    "order_df = pd.DataFrame({'Part Number': order_part_list, 'Forecast': forecast_list, 'Availability': avail_list, 'Recommended Order': recommended_order_list, 'my_order': my_order})\n",
    "order_df.to_excel(PATH + 'order%s.xlsx'%current_time, index=False)\n",
    "order_parameter ={'start_date' : start_date, 'sampling_period' : sampling_period, 'forcast_steps' : forcast_steps, 'train_test_ratio' : train_test_ratio, 'supplier_list' : supplier_list}\n",
    "pd.DataFrame(order_parameter, index=[1]).to_excel(PATH + 'order_parameter%s.xlsx'%current_time, index=False)"
   ],
   "metadata": {
    "collapsed": false,
    "ExecuteTime": {
     "end_time": "2023-07-26T09:55:31.443396400Z",
     "start_time": "2023-07-26T09:55:31.333541800Z"
    }
   }
  },
  {
   "cell_type": "code",
   "execution_count": 22,
   "outputs": [],
   "source": [
    "plt.show()\n"
   ],
   "metadata": {
    "collapsed": false
   }
  },
  {
   "cell_type": "code",
   "execution_count": 4,
   "outputs": [
    {
     "ename": "ValueError",
     "evalue": "Cannot compute initial seasonals using heuristic method with less than two full seasonal cycles in the data.",
     "output_type": "error",
     "traceback": [
      "\u001B[1;31m---------------------------------------------------------------------------\u001B[0m",
      "\u001B[1;31mValueError\u001B[0m                                Traceback (most recent call last)",
      "Cell \u001B[1;32mIn[4], line 11\u001B[0m\n\u001B[0;32m      8\u001B[0m train, test \u001B[38;5;241m=\u001B[39m data[:\u001B[38;5;28mint\u001B[39m(\u001B[38;5;28mlen\u001B[39m(data)\u001B[38;5;241m*\u001B[39m\u001B[38;5;241m0.7\u001B[39m)], data[\u001B[38;5;28mint\u001B[39m(\u001B[38;5;28mlen\u001B[39m(data)\u001B[38;5;241m*\u001B[39m\u001B[38;5;241m0.7\u001B[39m):]\n\u001B[0;32m     10\u001B[0m \u001B[38;5;66;03m# Fit the model\u001B[39;00m\n\u001B[1;32m---> 11\u001B[0m model \u001B[38;5;241m=\u001B[39m \u001B[43mExponentialSmoothing\u001B[49m\u001B[43m(\u001B[49m\u001B[43mtrain\u001B[49m\u001B[43m,\u001B[49m\u001B[43m \u001B[49m\u001B[43mtrend\u001B[49m\u001B[38;5;241;43m=\u001B[39;49m\u001B[38;5;124;43m'\u001B[39;49m\u001B[38;5;124;43madd\u001B[39;49m\u001B[38;5;124;43m'\u001B[39;49m\u001B[43m,\u001B[49m\u001B[43m \u001B[49m\u001B[43mseasonal\u001B[49m\u001B[38;5;241;43m=\u001B[39;49m\u001B[38;5;124;43m'\u001B[39;49m\u001B[38;5;124;43madd\u001B[39;49m\u001B[38;5;124;43m'\u001B[39;49m\u001B[43m,\u001B[49m\u001B[43m \u001B[49m\u001B[43mseasonal_periods\u001B[49m\u001B[38;5;241;43m=\u001B[39;49m\u001B[38;5;241;43m12\u001B[39;49m\u001B[43m)\u001B[49m\n\u001B[0;32m     12\u001B[0m model_fit \u001B[38;5;241m=\u001B[39m model\u001B[38;5;241m.\u001B[39mfit()\n\u001B[0;32m     14\u001B[0m \u001B[38;5;66;03m# Forecast\u001B[39;00m\n",
      "File \u001B[1;32m~\\anaconda3\\envs\\AmitMichael\\lib\\site-packages\\pandas\\util\\_decorators.py:211\u001B[0m, in \u001B[0;36mdeprecate_kwarg.<locals>._deprecate_kwarg.<locals>.wrapper\u001B[1;34m(*args, **kwargs)\u001B[0m\n\u001B[0;32m    209\u001B[0m     \u001B[38;5;28;01melse\u001B[39;00m:\n\u001B[0;32m    210\u001B[0m         kwargs[new_arg_name] \u001B[38;5;241m=\u001B[39m new_arg_value\n\u001B[1;32m--> 211\u001B[0m \u001B[38;5;28;01mreturn\u001B[39;00m func(\u001B[38;5;241m*\u001B[39margs, \u001B[38;5;241m*\u001B[39m\u001B[38;5;241m*\u001B[39mkwargs)\n",
      "File \u001B[1;32m~\\anaconda3\\envs\\AmitMichael\\lib\\site-packages\\statsmodels\\tsa\\holtwinters\\model.py:292\u001B[0m, in \u001B[0;36mExponentialSmoothing.__init__\u001B[1;34m(self, endog, trend, damped_trend, seasonal, seasonal_periods, initialization_method, initial_level, initial_trend, initial_seasonal, use_boxcox, bounds, dates, freq, missing)\u001B[0m\n\u001B[0;32m    290\u001B[0m \u001B[38;5;28mself\u001B[39m\u001B[38;5;241m.\u001B[39m_lambda \u001B[38;5;241m=\u001B[39m np\u001B[38;5;241m.\u001B[39mnan\n\u001B[0;32m    291\u001B[0m \u001B[38;5;28mself\u001B[39m\u001B[38;5;241m.\u001B[39m_y \u001B[38;5;241m=\u001B[39m \u001B[38;5;28mself\u001B[39m\u001B[38;5;241m.\u001B[39m_boxcox()\n\u001B[1;32m--> 292\u001B[0m \u001B[38;5;28;43mself\u001B[39;49m\u001B[38;5;241;43m.\u001B[39;49m\u001B[43m_initialize\u001B[49m\u001B[43m(\u001B[49m\u001B[43m)\u001B[49m\n\u001B[0;32m    293\u001B[0m \u001B[38;5;28mself\u001B[39m\u001B[38;5;241m.\u001B[39m_fixed_parameters \u001B[38;5;241m=\u001B[39m {}\n",
      "File \u001B[1;32m~\\anaconda3\\envs\\AmitMichael\\lib\\site-packages\\statsmodels\\tsa\\holtwinters\\model.py:430\u001B[0m, in \u001B[0;36mExponentialSmoothing._initialize\u001B[1;34m(self)\u001B[0m\n\u001B[0;32m    428\u001B[0m \u001B[38;5;28;01melif\u001B[39;00m \u001B[38;5;28mself\u001B[39m\u001B[38;5;241m.\u001B[39m_initialization_method \u001B[38;5;241m==\u001B[39m \u001B[38;5;124m\"\u001B[39m\u001B[38;5;124mestimated\u001B[39m\u001B[38;5;124m\"\u001B[39m:\n\u001B[0;32m    429\u001B[0m     \u001B[38;5;28;01mif\u001B[39;00m \u001B[38;5;28mself\u001B[39m\u001B[38;5;241m.\u001B[39mnobs \u001B[38;5;241m<\u001B[39m \u001B[38;5;241m10\u001B[39m \u001B[38;5;241m+\u001B[39m \u001B[38;5;241m2\u001B[39m \u001B[38;5;241m*\u001B[39m (\u001B[38;5;28mself\u001B[39m\u001B[38;5;241m.\u001B[39mseasonal_periods \u001B[38;5;241m/\u001B[39m\u001B[38;5;241m/\u001B[39m \u001B[38;5;241m2\u001B[39m):\n\u001B[1;32m--> 430\u001B[0m         \u001B[38;5;28;01mreturn\u001B[39;00m \u001B[38;5;28;43mself\u001B[39;49m\u001B[38;5;241;43m.\u001B[39;49m\u001B[43m_initialize_simple\u001B[49m\u001B[43m(\u001B[49m\u001B[43m)\u001B[49m\n\u001B[0;32m    431\u001B[0m     \u001B[38;5;28;01melse\u001B[39;00m:\n\u001B[0;32m    432\u001B[0m         \u001B[38;5;28;01mreturn\u001B[39;00m \u001B[38;5;28mself\u001B[39m\u001B[38;5;241m.\u001B[39m_initialize_heuristic()\n",
      "File \u001B[1;32m~\\anaconda3\\envs\\AmitMichael\\lib\\site-packages\\statsmodels\\tsa\\holtwinters\\model.py:437\u001B[0m, in \u001B[0;36mExponentialSmoothing._initialize_simple\u001B[1;34m(self)\u001B[0m\n\u001B[0;32m    435\u001B[0m trend \u001B[38;5;241m=\u001B[39m \u001B[38;5;28mself\u001B[39m\u001B[38;5;241m.\u001B[39mtrend \u001B[38;5;28;01mif\u001B[39;00m \u001B[38;5;28mself\u001B[39m\u001B[38;5;241m.\u001B[39mhas_trend \u001B[38;5;28;01melse\u001B[39;00m \u001B[38;5;28;01mFalse\u001B[39;00m\n\u001B[0;32m    436\u001B[0m seasonal \u001B[38;5;241m=\u001B[39m \u001B[38;5;28mself\u001B[39m\u001B[38;5;241m.\u001B[39mseasonal \u001B[38;5;28;01mif\u001B[39;00m \u001B[38;5;28mself\u001B[39m\u001B[38;5;241m.\u001B[39mhas_seasonal \u001B[38;5;28;01melse\u001B[39;00m \u001B[38;5;28;01mFalse\u001B[39;00m\n\u001B[1;32m--> 437\u001B[0m lvl, trend, seas \u001B[38;5;241m=\u001B[39m \u001B[43m_initialization_simple\u001B[49m\u001B[43m(\u001B[49m\n\u001B[0;32m    438\u001B[0m \u001B[43m    \u001B[49m\u001B[38;5;28;43mself\u001B[39;49m\u001B[38;5;241;43m.\u001B[39;49m\u001B[43m_y\u001B[49m\u001B[43m,\u001B[49m\u001B[43m \u001B[49m\u001B[43mtrend\u001B[49m\u001B[43m,\u001B[49m\u001B[43m \u001B[49m\u001B[43mseasonal\u001B[49m\u001B[43m,\u001B[49m\u001B[43m \u001B[49m\u001B[38;5;28;43mself\u001B[39;49m\u001B[38;5;241;43m.\u001B[39;49m\u001B[43mseasonal_periods\u001B[49m\n\u001B[0;32m    439\u001B[0m \u001B[43m\u001B[49m\u001B[43m)\u001B[49m\n\u001B[0;32m    440\u001B[0m \u001B[38;5;28mself\u001B[39m\u001B[38;5;241m.\u001B[39m_initial_level \u001B[38;5;241m=\u001B[39m lvl\n\u001B[0;32m    441\u001B[0m \u001B[38;5;28mself\u001B[39m\u001B[38;5;241m.\u001B[39m_initial_trend \u001B[38;5;241m=\u001B[39m trend\n",
      "File \u001B[1;32m~\\anaconda3\\envs\\AmitMichael\\lib\\site-packages\\statsmodels\\tsa\\exponential_smoothing\\initialization.py:26\u001B[0m, in \u001B[0;36m_initialization_simple\u001B[1;34m(endog, trend, seasonal, seasonal_periods)\u001B[0m\n\u001B[0;32m     23\u001B[0m \u001B[38;5;66;03m# Seasonal\u001B[39;00m\n\u001B[0;32m     24\u001B[0m \u001B[38;5;28;01melse\u001B[39;00m:\n\u001B[0;32m     25\u001B[0m     \u001B[38;5;28;01mif\u001B[39;00m nobs \u001B[38;5;241m<\u001B[39m \u001B[38;5;241m2\u001B[39m \u001B[38;5;241m*\u001B[39m seasonal_periods:\n\u001B[1;32m---> 26\u001B[0m         \u001B[38;5;28;01mraise\u001B[39;00m \u001B[38;5;167;01mValueError\u001B[39;00m(\u001B[38;5;124m'\u001B[39m\u001B[38;5;124mCannot compute initial seasonals using\u001B[39m\u001B[38;5;124m'\u001B[39m\n\u001B[0;32m     27\u001B[0m                          \u001B[38;5;124m'\u001B[39m\u001B[38;5;124m heuristic method with less than two full\u001B[39m\u001B[38;5;124m'\u001B[39m\n\u001B[0;32m     28\u001B[0m                          \u001B[38;5;124m'\u001B[39m\u001B[38;5;124m seasonal cycles in the data.\u001B[39m\u001B[38;5;124m'\u001B[39m)\n\u001B[0;32m     30\u001B[0m     initial_level \u001B[38;5;241m=\u001B[39m np\u001B[38;5;241m.\u001B[39mmean(endog[:seasonal_periods])\n\u001B[0;32m     31\u001B[0m     m \u001B[38;5;241m=\u001B[39m seasonal_periods\n",
      "\u001B[1;31mValueError\u001B[0m: Cannot compute initial seasonals using heuristic method with less than two full seasonal cycles in the data."
     ]
    }
   ],
   "source": [
    "import pandas as pd\n",
    "\n",
    "# Load your data\n",
    "# We'll use a sample dataset for demonstration\n",
    "\n",
    "data = history_df['Quantity']\n",
    "# Split data into training and test sets\n",
    "train, test = data[:int(len(data)*0.7)], data[int(len(data)*0.7):]\n",
    "\n",
    "# Fit the model\n",
    "model = ExponentialSmoothing(train, trend='add', seasonal='add', seasonal_periods=12)\n",
    "model_fit = model.fit()\n",
    "\n",
    "# Forecast\n",
    "pred = model_fit.predict(start=test.index[0], end=test.index[-1])\n",
    "train = train.resample('Q').sum()\n",
    "test = test.resample('Q').sum()\n",
    "pred = pred.resample('Q').sum()\n",
    "\n",
    "# Plot the results\n",
    "plt.plot(train.index, train, label='Train', color='yellow')\n",
    "plt.plot(test.index, test, label='Test', color='blue')\n",
    "plt.plot(pred.index, pred, label='Holt-Winters', color='red')\n",
    "plt.legend(loc='best')\n",
    "plt.xticks(rotation=45)\n",
    "\n",
    "plt.show()\n"
   ],
   "metadata": {
    "collapsed": false,
    "ExecuteTime": {
     "end_time": "2023-07-20T07:42:19.888378600Z",
     "start_time": "2023-07-20T07:42:19.067434100Z"
    }
   }
  }
 ],
 "metadata": {
  "kernelspec": {
   "display_name": "Python 3",
   "language": "python",
   "name": "python3"
  },
  "language_info": {
   "codemirror_mode": {
    "name": "ipython",
    "version": 2
   },
   "file_extension": ".py",
   "mimetype": "text/x-python",
   "name": "python",
   "nbconvert_exporter": "python",
   "pygments_lexer": "ipython2",
   "version": "2.7.6"
  }
 },
 "nbformat": 4,
 "nbformat_minor": 0
}
