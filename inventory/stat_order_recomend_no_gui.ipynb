{
 "cells": [
  {
   "cell_type": "code",
   "execution_count": 1,
   "metadata": {
    "collapsed": true,
    "ExecuteTime": {
     "end_time": "2023-12-18T12:33:01.755299100Z",
     "start_time": "2023-12-18T12:32:48.787729Z"
    }
   },
   "outputs": [],
   "source": [
    "import pandas as pd\n",
    "from statsmodels.tsa.holtwinters import ExponentialSmoothing\n",
    "import matplotlib.pyplot as plt\n",
    "from datetime import datetime\n",
    "import numpy as np"
   ]
  },
  {
   "cell_type": "code",
   "execution_count": 6,
   "outputs": [],
   "source": [
    "# After downloading the data from the ERP software, the files needs to be opened in excel and make it editable\n",
    "#   --------------------------- parameters and data --------------\n",
    "PATH = '../resources/inventory/'\n",
    "supplier_list = [200067]  #200067 -julia, 200051 - donson\n",
    "# Needs to open files and save them again as xlsx inside the excel\n",
    "\n",
    "# important needs to delete first column of date which is empty\n",
    "df = pd.read_excel(PATH + 'customer_transactions.xlsx', parse_dates=['Date'])  # inventory/transactions/reports/detailed/customer shipments\n",
    "df.columns.values[0] = 'empty'\n",
    "df.columns.values[3] = 'Date'\n",
    "\n",
    "purchase_data_df = pd.read_excel(PATH + 'purchase_parameters.xlsx')#  invetory/part catalog/part parameter/purchae MRP parameters for parts\n",
    "purchase_data_df = purchase_data_df[purchase_data_df['Preferred Vendor'].isin(supplier_list)]\n",
    "availability_df = pd.read_excel(PATH + 'availability.xlsx')  # inventory/part catalog/parts report/ parts availability detailed\n",
    "#start_date = '07/12/21'  # all information retrieved from the ERP# software will be discarded. format 'dd\\mm\\yy'\n",
    "#start_date = start_date.split('/')[0] + '/' + start_date.split('/')[1] + '/' + start_date.split('/')[2]  # changing order\n"
   ],
   "metadata": {
    "collapsed": false,
    "ExecuteTime": {
     "end_time": "2023-12-18T12:36:05.870711300Z",
     "start_time": "2023-12-18T12:36:04.070010Z"
    }
   }
  },
  {
   "cell_type": "code",
   "execution_count": 9,
   "outputs": [
    {
     "name": "stdout",
     "output_type": "stream",
     "text": [
      "error with   part:  21AM180-05512L\n",
      "index 0 is out of bounds for axis 0 with size 0\n",
      "error with   part:  A12-0060\n",
      "index 1 is out of bounds for axis 0 with size 1\n",
      "error with   part:  A12-0075\n",
      "index 0 is out of bounds for axis 0 with size 0\n",
      "error with   part:  A12-0090\n",
      "index 1 is out of bounds for axis 0 with size 1\n",
      "error with   part:  A12-0111\n",
      "index 1 is out of bounds for axis 0 with size 1\n",
      "error with   part:  A12-0135\n",
      "index 0 is out of bounds for axis 0 with size 0\n",
      "error with   part:  A12-0140\n",
      "index 0 is out of bounds for axis 0 with size 0\n",
      "error with   part:  A12-0170\n",
      "index 1 is out of bounds for axis 0 with size 1\n",
      "error with   part:  A12-0180\n",
      "index 1 is out of bounds for axis 0 with size 1\n",
      "error with   part:  A12-0200\n",
      "index 1 is out of bounds for axis 0 with size 1\n",
      "error with   part:  A12-0210\n",
      "index 0 is out of bounds for axis 0 with size 0\n",
      "error with   part:  A12-0220\n",
      "index 1 is out of bounds for axis 0 with size 1\n",
      "error with   part:  A12-0230\n",
      "index 0 is out of bounds for axis 0 with size 0\n",
      "error with   part:  A12-0240\n",
      "index 1 is out of bounds for axis 0 with size 1\n",
      "error with   part:  A12-0290\n",
      "index 1 is out of bounds for axis 0 with size 1\n",
      "error with   part:  A12-0300\n",
      "index 1 is out of bounds for axis 0 with size 1\n",
      "error with   part:  A12-0310\n",
      "index 1 is out of bounds for axis 0 with size 1\n",
      "error with   part:  A12-0330\n",
      "index 0 is out of bounds for axis 0 with size 0\n",
      "error with   part:  A12-0340\n",
      "index 0 is out of bounds for axis 0 with size 0\n",
      "error with   part:  A12-0450\n",
      "index 0 is out of bounds for axis 0 with size 0\n",
      "error with   part:  A12-0572\n",
      "index 0 is out of bounds for axis 0 with size 0\n",
      "error with   part:  A12-0670\n",
      "index 1 is out of bounds for axis 0 with size 1\n",
      "error with   part:  A12-0900\n",
      "index 0 is out of bounds for axis 0 with size 0\n",
      "error with   part:  A12-1524\n",
      "index 0 is out of bounds for axis 0 with size 0\n",
      "error with   part:  A12-2032\n",
      "index 0 is out of bounds for axis 0 with size 0\n",
      "error with   part:  A12-2790\n",
      "index 0 is out of bounds for axis 0 with size 0\n",
      "error with   part:  A12-3100\n",
      "index 0 is out of bounds for axis 0 with size 0\n",
      "error with   part:  A12-3556\n",
      "index 0 is out of bounds for axis 0 with size 0\n",
      "error with   part:  A12-3810\n",
      "index 0 is out of bounds for axis 0 with size 0\n",
      "error with   part:  A12-3900\n",
      "index 0 is out of bounds for axis 0 with size 0\n",
      "error with   part:  A12-4064\n",
      "index 0 is out of bounds for axis 0 with size 0\n",
      "error with   part:  A12-4572\n",
      "index 0 is out of bounds for axis 0 with size 0\n",
      "error with   part:  A12-5080\n",
      "index 0 is out of bounds for axis 0 with size 0\n",
      "error with   part:  A12-6096\n",
      "index 0 is out of bounds for axis 0 with size 0\n",
      "error with   part:  D12-0762\n",
      "index 0 is out of bounds for axis 0 with size 0\n",
      "error with   part:  D12-1016\n",
      "index 0 is out of bounds for axis 0 with size 0\n",
      "error with   part:  D12-1270\n",
      "index 0 is out of bounds for axis 0 with size 0\n",
      "error with   part:  D12-1524\n",
      "index 0 is out of bounds for axis 0 with size 0\n",
      "error with   part:  K12-0064\n",
      "index 1 is out of bounds for axis 0 with size 1\n",
      "error with   part:  K12-0127\n",
      "index 1 is out of bounds for axis 0 with size 1\n",
      "error with   part:  K12-0762\n",
      "index 0 is out of bounds for axis 0 with size 0\n",
      "error with   part:  KD12-0032\n",
      "index 0 is out of bounds for axis 0 with size 0\n",
      "error with   part:  KD12-0071\n",
      "index 0 is out of bounds for axis 0 with size 0\n",
      "error with   part:  S295L-02360\n",
      "index 0 is out of bounds for axis 0 with size 0\n",
      "error with   part:  S295L-03150\n",
      "index 0 is out of bounds for axis 0 with size 0\n",
      "error with   part:  S295L-05512\n",
      "index 1 is out of bounds for axis 0 with size 1\n",
      "error with   part:  S295L-08000\n",
      "index 0 is out of bounds for axis 0 with size 0\n",
      "error with   part:  S295L-08661\n",
      "index 1 is out of bounds for axis 0 with size 1\n",
      "error with   part:  S295L-09450\n",
      "index 1 is out of bounds for axis 0 with size 1\n"
     ]
    }
   ],
   "source": [
    "pn_list = list(purchase_data_df['Part Number'].unique())\n",
    "my_order = np.zeros(len(pn_list))\n",
    "order_part_list =np.zeros(len(pn_list), dtype=object)\n",
    "forcast_steps = 12\n",
    "avail_list = np.zeros(len(pn_list))\n",
    "security_stock_list = np.zeros(len(pn_list))\n",
    "recommended_order_list = np.zeros(len(pn_list))\n",
    "sampling_period = 'M'\n",
    "how_many_weeks = 4\n",
    "start_date = '2020-07-01'\n",
    "forecast_list = np.zeros(len(pn_list))\n",
    "train_test_ratio = 1\n",
    "#pn_list = ['A12-1016', 'A12-1270']\n",
    "\n",
    "\n",
    "def order_recommend(part_index=0):\n",
    "    part = pn_list[part_index]\n",
    "    history_df = df[df['Part Number'] == part ][['Date', 'Quantity']]\n",
    "    history_df = history_df[history_df['Date'] > start_date]\n",
    "\n",
    "    history_df = history_df.set_index('Date')\n",
    "    history_df = history_df.resample(sampling_period).sum()\n",
    "\n",
    "    data = history_df['Quantity']\n",
    "    # Split data into training and test sets\n",
    "    train, test = data[:int(len(data)*train_test_ratio)], data[int(len(data)*train_test_ratio):]\n",
    "\n",
    "    # Fit the model\n",
    "    try:\n",
    "        model = ExponentialSmoothing(train, trend='add', seasonal=None,seasonal_periods=1)\n",
    "        model_fit = model.fit()\n",
    "        order_part_list[part_index] = part\n",
    "        forecast_list[part_index]=model_fit.forecast(forcast_steps).sum()\n",
    "        avail_list[part_index] = availability_df[availability_df['Part Number'] == part]['Quantity'].values[0]\n",
    "\n",
    "        recommended_order_list[part_index]=round(forecast_list[part_index]-avail_list[part_index])\n",
    "        part_order_recomendation = round(forecast_list[part_index]-avail_list[part_index])\n",
    "        # Forecast\n",
    "        pred = model_fit.predict(start=train.index[-1], end=train.index[-1] + pd.Timedelta(weeks=forcast_steps*how_many_weeks))\n",
    "        train = train.resample('2W').sum()\n",
    "        test = test.resample('2W').sum()\n",
    "        pred = pred.resample('2W').sum()\n",
    "    \n",
    "    except Exception as e:\n",
    "            print('error with   part: ', part)\n",
    "            print(e)\n",
    "            part_order_recomendation = 0\n",
    "            forecast_list[part_index] = 0\n",
    "            avail_list[part_index] = 0\n",
    "            recommended_order_list[part_index] = 0\n",
    "\n",
    "for index in range(len(pn_list)):\n",
    "    order_recommend(index)\n"
   ],
   "metadata": {
    "collapsed": false,
    "ExecuteTime": {
     "end_time": "2023-12-18T12:38:46.976188500Z",
     "start_time": "2023-12-18T12:38:46.364637Z"
    }
   }
  },
  {
   "cell_type": "code",
   "execution_count": 10,
   "outputs": [],
   "source": [
    "\n",
    "current_time = datetime.now().strftime(\"%Y-%m-%d_%H-%M-%S\")\n",
    "\n",
    "order_df = pd.DataFrame({'Part Number': order_part_list, 'Forecast': forecast_list, 'Availability': avail_list, 'Recommended Order': recommended_order_list, 'my_order': my_order})\n",
    "order_df.to_excel(PATH + 'order%s.xlsx'%current_time, index=False)\n",
    "order_parameter ={'start_date' : start_date, 'sampling_period' : sampling_period, 'forcast_steps' : forcast_steps, 'train_test_ratio' : train_test_ratio, 'supplier_list' : supplier_list}\n",
    "pd.DataFrame(order_parameter, index=[1]).to_excel(PATH + 'order_parameter%s.xlsx'%current_time, index=False)"
   ],
   "metadata": {
    "collapsed": false,
    "ExecuteTime": {
     "end_time": "2023-12-18T12:38:53.599226600Z",
     "start_time": "2023-12-18T12:38:53.567788900Z"
    }
   }
  },
  {
   "cell_type": "code",
   "execution_count": 4,
   "outputs": [
    {
     "ename": "ValueError",
     "evalue": "Cannot compute initial seasonals using heuristic method with less than two full seasonal cycles in the data.",
     "output_type": "error",
     "traceback": [
      "\u001B[1;31m---------------------------------------------------------------------------\u001B[0m",
      "\u001B[1;31mValueError\u001B[0m                                Traceback (most recent call last)",
      "Cell \u001B[1;32mIn[4], line 11\u001B[0m\n\u001B[0;32m      8\u001B[0m train, test \u001B[38;5;241m=\u001B[39m data[:\u001B[38;5;28mint\u001B[39m(\u001B[38;5;28mlen\u001B[39m(data)\u001B[38;5;241m*\u001B[39m\u001B[38;5;241m0.7\u001B[39m)], data[\u001B[38;5;28mint\u001B[39m(\u001B[38;5;28mlen\u001B[39m(data)\u001B[38;5;241m*\u001B[39m\u001B[38;5;241m0.7\u001B[39m):]\n\u001B[0;32m     10\u001B[0m \u001B[38;5;66;03m# Fit the model\u001B[39;00m\n\u001B[1;32m---> 11\u001B[0m model \u001B[38;5;241m=\u001B[39m \u001B[43mExponentialSmoothing\u001B[49m\u001B[43m(\u001B[49m\u001B[43mtrain\u001B[49m\u001B[43m,\u001B[49m\u001B[43m \u001B[49m\u001B[43mtrend\u001B[49m\u001B[38;5;241;43m=\u001B[39;49m\u001B[38;5;124;43m'\u001B[39;49m\u001B[38;5;124;43madd\u001B[39;49m\u001B[38;5;124;43m'\u001B[39;49m\u001B[43m,\u001B[49m\u001B[43m \u001B[49m\u001B[43mseasonal\u001B[49m\u001B[38;5;241;43m=\u001B[39;49m\u001B[38;5;124;43m'\u001B[39;49m\u001B[38;5;124;43madd\u001B[39;49m\u001B[38;5;124;43m'\u001B[39;49m\u001B[43m,\u001B[49m\u001B[43m \u001B[49m\u001B[43mseasonal_periods\u001B[49m\u001B[38;5;241;43m=\u001B[39;49m\u001B[38;5;241;43m12\u001B[39;49m\u001B[43m)\u001B[49m\n\u001B[0;32m     12\u001B[0m model_fit \u001B[38;5;241m=\u001B[39m model\u001B[38;5;241m.\u001B[39mfit()\n\u001B[0;32m     14\u001B[0m \u001B[38;5;66;03m# Forecast\u001B[39;00m\n",
      "File \u001B[1;32m~\\anaconda3\\envs\\AmitMichael\\lib\\site-packages\\pandas\\util\\_decorators.py:211\u001B[0m, in \u001B[0;36mdeprecate_kwarg.<locals>._deprecate_kwarg.<locals>.wrapper\u001B[1;34m(*args, **kwargs)\u001B[0m\n\u001B[0;32m    209\u001B[0m     \u001B[38;5;28;01melse\u001B[39;00m:\n\u001B[0;32m    210\u001B[0m         kwargs[new_arg_name] \u001B[38;5;241m=\u001B[39m new_arg_value\n\u001B[1;32m--> 211\u001B[0m \u001B[38;5;28;01mreturn\u001B[39;00m func(\u001B[38;5;241m*\u001B[39margs, \u001B[38;5;241m*\u001B[39m\u001B[38;5;241m*\u001B[39mkwargs)\n",
      "File \u001B[1;32m~\\anaconda3\\envs\\AmitMichael\\lib\\site-packages\\statsmodels\\tsa\\holtwinters\\model.py:292\u001B[0m, in \u001B[0;36mExponentialSmoothing.__init__\u001B[1;34m(self, endog, trend, damped_trend, seasonal, seasonal_periods, initialization_method, initial_level, initial_trend, initial_seasonal, use_boxcox, bounds, dates, freq, missing)\u001B[0m\n\u001B[0;32m    290\u001B[0m \u001B[38;5;28mself\u001B[39m\u001B[38;5;241m.\u001B[39m_lambda \u001B[38;5;241m=\u001B[39m np\u001B[38;5;241m.\u001B[39mnan\n\u001B[0;32m    291\u001B[0m \u001B[38;5;28mself\u001B[39m\u001B[38;5;241m.\u001B[39m_y \u001B[38;5;241m=\u001B[39m \u001B[38;5;28mself\u001B[39m\u001B[38;5;241m.\u001B[39m_boxcox()\n\u001B[1;32m--> 292\u001B[0m \u001B[38;5;28;43mself\u001B[39;49m\u001B[38;5;241;43m.\u001B[39;49m\u001B[43m_initialize\u001B[49m\u001B[43m(\u001B[49m\u001B[43m)\u001B[49m\n\u001B[0;32m    293\u001B[0m \u001B[38;5;28mself\u001B[39m\u001B[38;5;241m.\u001B[39m_fixed_parameters \u001B[38;5;241m=\u001B[39m {}\n",
      "File \u001B[1;32m~\\anaconda3\\envs\\AmitMichael\\lib\\site-packages\\statsmodels\\tsa\\holtwinters\\model.py:430\u001B[0m, in \u001B[0;36mExponentialSmoothing._initialize\u001B[1;34m(self)\u001B[0m\n\u001B[0;32m    428\u001B[0m \u001B[38;5;28;01melif\u001B[39;00m \u001B[38;5;28mself\u001B[39m\u001B[38;5;241m.\u001B[39m_initialization_method \u001B[38;5;241m==\u001B[39m \u001B[38;5;124m\"\u001B[39m\u001B[38;5;124mestimated\u001B[39m\u001B[38;5;124m\"\u001B[39m:\n\u001B[0;32m    429\u001B[0m     \u001B[38;5;28;01mif\u001B[39;00m \u001B[38;5;28mself\u001B[39m\u001B[38;5;241m.\u001B[39mnobs \u001B[38;5;241m<\u001B[39m \u001B[38;5;241m10\u001B[39m \u001B[38;5;241m+\u001B[39m \u001B[38;5;241m2\u001B[39m \u001B[38;5;241m*\u001B[39m (\u001B[38;5;28mself\u001B[39m\u001B[38;5;241m.\u001B[39mseasonal_periods \u001B[38;5;241m/\u001B[39m\u001B[38;5;241m/\u001B[39m \u001B[38;5;241m2\u001B[39m):\n\u001B[1;32m--> 430\u001B[0m         \u001B[38;5;28;01mreturn\u001B[39;00m \u001B[38;5;28;43mself\u001B[39;49m\u001B[38;5;241;43m.\u001B[39;49m\u001B[43m_initialize_simple\u001B[49m\u001B[43m(\u001B[49m\u001B[43m)\u001B[49m\n\u001B[0;32m    431\u001B[0m     \u001B[38;5;28;01melse\u001B[39;00m:\n\u001B[0;32m    432\u001B[0m         \u001B[38;5;28;01mreturn\u001B[39;00m \u001B[38;5;28mself\u001B[39m\u001B[38;5;241m.\u001B[39m_initialize_heuristic()\n",
      "File \u001B[1;32m~\\anaconda3\\envs\\AmitMichael\\lib\\site-packages\\statsmodels\\tsa\\holtwinters\\model.py:437\u001B[0m, in \u001B[0;36mExponentialSmoothing._initialize_simple\u001B[1;34m(self)\u001B[0m\n\u001B[0;32m    435\u001B[0m trend \u001B[38;5;241m=\u001B[39m \u001B[38;5;28mself\u001B[39m\u001B[38;5;241m.\u001B[39mtrend \u001B[38;5;28;01mif\u001B[39;00m \u001B[38;5;28mself\u001B[39m\u001B[38;5;241m.\u001B[39mhas_trend \u001B[38;5;28;01melse\u001B[39;00m \u001B[38;5;28;01mFalse\u001B[39;00m\n\u001B[0;32m    436\u001B[0m seasonal \u001B[38;5;241m=\u001B[39m \u001B[38;5;28mself\u001B[39m\u001B[38;5;241m.\u001B[39mseasonal \u001B[38;5;28;01mif\u001B[39;00m \u001B[38;5;28mself\u001B[39m\u001B[38;5;241m.\u001B[39mhas_seasonal \u001B[38;5;28;01melse\u001B[39;00m \u001B[38;5;28;01mFalse\u001B[39;00m\n\u001B[1;32m--> 437\u001B[0m lvl, trend, seas \u001B[38;5;241m=\u001B[39m \u001B[43m_initialization_simple\u001B[49m\u001B[43m(\u001B[49m\n\u001B[0;32m    438\u001B[0m \u001B[43m    \u001B[49m\u001B[38;5;28;43mself\u001B[39;49m\u001B[38;5;241;43m.\u001B[39;49m\u001B[43m_y\u001B[49m\u001B[43m,\u001B[49m\u001B[43m \u001B[49m\u001B[43mtrend\u001B[49m\u001B[43m,\u001B[49m\u001B[43m \u001B[49m\u001B[43mseasonal\u001B[49m\u001B[43m,\u001B[49m\u001B[43m \u001B[49m\u001B[38;5;28;43mself\u001B[39;49m\u001B[38;5;241;43m.\u001B[39;49m\u001B[43mseasonal_periods\u001B[49m\n\u001B[0;32m    439\u001B[0m \u001B[43m\u001B[49m\u001B[43m)\u001B[49m\n\u001B[0;32m    440\u001B[0m \u001B[38;5;28mself\u001B[39m\u001B[38;5;241m.\u001B[39m_initial_level \u001B[38;5;241m=\u001B[39m lvl\n\u001B[0;32m    441\u001B[0m \u001B[38;5;28mself\u001B[39m\u001B[38;5;241m.\u001B[39m_initial_trend \u001B[38;5;241m=\u001B[39m trend\n",
      "File \u001B[1;32m~\\anaconda3\\envs\\AmitMichael\\lib\\site-packages\\statsmodels\\tsa\\exponential_smoothing\\initialization.py:26\u001B[0m, in \u001B[0;36m_initialization_simple\u001B[1;34m(endog, trend, seasonal, seasonal_periods)\u001B[0m\n\u001B[0;32m     23\u001B[0m \u001B[38;5;66;03m# Seasonal\u001B[39;00m\n\u001B[0;32m     24\u001B[0m \u001B[38;5;28;01melse\u001B[39;00m:\n\u001B[0;32m     25\u001B[0m     \u001B[38;5;28;01mif\u001B[39;00m nobs \u001B[38;5;241m<\u001B[39m \u001B[38;5;241m2\u001B[39m \u001B[38;5;241m*\u001B[39m seasonal_periods:\n\u001B[1;32m---> 26\u001B[0m         \u001B[38;5;28;01mraise\u001B[39;00m \u001B[38;5;167;01mValueError\u001B[39;00m(\u001B[38;5;124m'\u001B[39m\u001B[38;5;124mCannot compute initial seasonals using\u001B[39m\u001B[38;5;124m'\u001B[39m\n\u001B[0;32m     27\u001B[0m                          \u001B[38;5;124m'\u001B[39m\u001B[38;5;124m heuristic method with less than two full\u001B[39m\u001B[38;5;124m'\u001B[39m\n\u001B[0;32m     28\u001B[0m                          \u001B[38;5;124m'\u001B[39m\u001B[38;5;124m seasonal cycles in the data.\u001B[39m\u001B[38;5;124m'\u001B[39m)\n\u001B[0;32m     30\u001B[0m     initial_level \u001B[38;5;241m=\u001B[39m np\u001B[38;5;241m.\u001B[39mmean(endog[:seasonal_periods])\n\u001B[0;32m     31\u001B[0m     m \u001B[38;5;241m=\u001B[39m seasonal_periods\n",
      "\u001B[1;31mValueError\u001B[0m: Cannot compute initial seasonals using heuristic method with less than two full seasonal cycles in the data."
     ]
    }
   ],
   "source": [
    "import pandas as pd\n",
    "\n",
    "# Load your data\n",
    "# We'll use a sample dataset for demonstration\n",
    "\n",
    "data = history_df['Quantity']\n",
    "# Split data into training and test sets\n",
    "train, test = data[:int(len(data)*0.7)], data[int(len(data)*0.7):]\n",
    "\n",
    "# Fit the model\n",
    "model = ExponentialSmoothing(train, trend='add', seasonal='add', seasonal_periods=12)\n",
    "model_fit = model.fit()\n",
    "\n",
    "# Forecast\n",
    "pred = model_fit.predict(start=test.index[0], end=test.index[-1])\n",
    "train = train.resample('Q').sum()\n",
    "test = test.resample('Q').sum()\n",
    "pred = pred.resample('Q').sum()\n",
    "\n",
    "# Plot the results\n",
    "plt.plot(train.index, train, label='Train', color='yellow')\n",
    "plt.plot(test.index, test, label='Test', color='blue')\n",
    "plt.plot(pred.index, pred, label='Holt-Winters', color='red')\n",
    "plt.legend(loc='best')\n",
    "plt.xticks(rotation=45)\n",
    "\n",
    "plt.show()\n"
   ],
   "metadata": {
    "collapsed": false,
    "ExecuteTime": {
     "end_time": "2023-07-20T07:42:19.888378600Z",
     "start_time": "2023-07-20T07:42:19.067434100Z"
    }
   }
  }
 ],
 "metadata": {
  "kernelspec": {
   "display_name": "Python 3",
   "language": "python",
   "name": "python3"
  },
  "language_info": {
   "codemirror_mode": {
    "name": "ipython",
    "version": 2
   },
   "file_extension": ".py",
   "mimetype": "text/x-python",
   "name": "python",
   "nbconvert_exporter": "python",
   "pygments_lexer": "ipython2",
   "version": "2.7.6"
  }
 },
 "nbformat": 4,
 "nbformat_minor": 0
}
