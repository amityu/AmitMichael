{
 "cells": [
  {
   "cell_type": "code",
   "execution_count": 1,
   "outputs": [],
   "source": [
    "import pandas  as pd"
   ],
   "metadata": {
    "collapsed": false,
    "ExecuteTime": {
     "end_time": "2023-10-28T09:18:18.083690500Z",
     "start_time": "2023-10-28T09:18:17.858162Z"
    }
   },
   "id": "c52d47a677937f69"
  },
  {
   "cell_type": "code",
   "execution_count": 2,
   "outputs": [],
   "source": [
    "MY_DATA_PATH = 'C:/Users/user/AM_DATA/shopify/'\n",
    "DIR_PATH  = MY_DATA_PATH + 'product_files/donson/'\n"
   ],
   "metadata": {
    "collapsed": false,
    "ExecuteTime": {
     "end_time": "2023-10-28T09:18:20.488762200Z",
     "start_time": "2023-10-28T09:18:20.471606400Z"
    }
   },
   "id": "initial_id"
  },
  {
   "cell_type": "code",
   "execution_count": 3,
   "outputs": [],
   "source": [
    "product_df = pd.read_csv(DIR_PATH + 'TP.csv')\n",
    "vendor_df = pd.read_csv(DIR_PATH + 'Donson Vendor Parts.csv')"
   ],
   "metadata": {
    "collapsed": false,
    "ExecuteTime": {
     "end_time": "2023-10-28T09:18:21.805235800Z",
     "start_time": "2023-10-28T09:18:21.787512300Z"
    }
   },
   "id": "7e574e6ccbbff070"
  },
  {
   "cell_type": "code",
   "execution_count": 4,
   "outputs": [],
   "source": [
    "result = pd.merge(vendor_df, product_df,   left_on='Vend/Manuf. Part No.',right_on='PART NO.', how='right')\n"
   ],
   "metadata": {
    "collapsed": false,
    "ExecuteTime": {
     "end_time": "2023-10-28T09:18:23.586222100Z",
     "start_time": "2023-10-28T09:18:23.570154100Z"
    }
   },
   "id": "6b51d2aab0f1086d"
  },
  {
   "cell_type": "code",
   "execution_count": 5,
   "outputs": [],
   "source": [
    "last_year_df = pd.read_csv(DIR_PATH + 'last_year_sales_order.csv')"
   ],
   "metadata": {
    "collapsed": false,
    "ExecuteTime": {
     "end_time": "2023-10-28T09:18:25.678260700Z",
     "start_time": "2023-10-28T09:18:25.669880100Z"
    }
   },
   "id": "22976c5a04cd18d6"
  },
  {
   "cell_type": "code",
   "execution_count": 6,
   "outputs": [],
   "source": [
    "part_numbers_active_last_year = last_year_df['Part Number'].unique()"
   ],
   "metadata": {
    "collapsed": false,
    "ExecuteTime": {
     "end_time": "2023-10-28T09:18:27.186989500Z",
     "start_time": "2023-10-28T09:18:27.171332Z"
    }
   },
   "id": "51ff4c00d20328c6"
  },
  {
   "cell_type": "code",
   "execution_count": 7,
   "outputs": [],
   "source": [
    "active_productds_df = result[result['Part Number'].isin(part_numbers_active_last_year)].dropna(subset=['Vend/Manuf. Part No.'])"
   ],
   "metadata": {
    "collapsed": false,
    "ExecuteTime": {
     "end_time": "2023-10-28T09:18:28.816096700Z",
     "start_time": "2023-10-28T09:18:28.815581700Z"
    }
   },
   "id": "1cb92ae39f438ded"
  },
  {
   "cell_type": "code",
   "execution_count": 16,
   "outputs": [],
   "source": [
    "import_product_df = pd.DataFrame()\n",
    "length = len(active_productds_df)\n",
    "import_product_df['Handle'] = ['tapered-silicone-plug']* length\n",
    "import_product_df['Title'] = ['Tapered silicone plug']* length\n",
    "import_product_df['Option1 Name'] = ['A'] * length\n",
    "import_product_df['Option1 Value'] = active_productds_df['A in'].values\n",
    "import_product_df['Option2 Name'] = ['B'] * length\n",
    "import_product_df['Option2 Value'] = active_productds_df['B in'].values\n",
    "import_product_df['Option3 Name'] = ['L'] * length\n",
    "import_product_df['Option3 Value'] = active_productds_df['L in'].values\n",
    "import_product_df['Variant SKU'] = active_productds_df['Part Number'].values\n",
    "import_product_df['Variant Grams'] = active_productds_df['Weight g'].values\n",
    "import_product_df['Status'] = ['active']* length\n",
    "import_product_df['Variant Price'] = range(length)\n"
   ],
   "metadata": {
    "collapsed": false,
    "ExecuteTime": {
     "end_time": "2023-10-28T09:59:04.433609100Z",
     "start_time": "2023-10-28T09:59:04.433100100Z"
    }
   },
   "id": "d4c36de1cfe82162"
  },
  {
   "cell_type": "code",
   "execution_count": 19,
   "outputs": [],
   "source": [
    "import_product_df.to_csv(DIR_PATH + 'import_product_df.csv', index=False)"
   ],
   "metadata": {
    "collapsed": false,
    "ExecuteTime": {
     "end_time": "2023-10-28T09:59:39.858492800Z",
     "start_time": "2023-10-28T09:59:39.849237900Z"
    }
   },
   "id": "b373d324e130dbc1"
  }
 ],
 "metadata": {
  "kernelspec": {
   "display_name": "Python 3",
   "language": "python",
   "name": "python3"
  },
  "language_info": {
   "codemirror_mode": {
    "name": "ipython",
    "version": 2
   },
   "file_extension": ".py",
   "mimetype": "text/x-python",
   "name": "python",
   "nbconvert_exporter": "python",
   "pygments_lexer": "ipython2",
   "version": "2.7.6"
  }
 },
 "nbformat": 4,
 "nbformat_minor": 5
}
