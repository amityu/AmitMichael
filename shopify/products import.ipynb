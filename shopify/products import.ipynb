{
 "cells": [
  {
   "cell_type": "code",
   "execution_count": 1,
   "outputs": [],
   "source": [
    "import pandas  as pd"
   ],
   "metadata": {
    "collapsed": false,
    "ExecuteTime": {
     "end_time": "2023-10-27T11:11:18.225657900Z",
     "start_time": "2023-10-27T11:11:17.980059400Z"
    }
   },
   "id": "c52d47a677937f69"
  },
  {
   "cell_type": "code",
   "execution_count": 3,
   "outputs": [],
   "source": [
    "MY_DATA_PATH = 'C:/Users/user/AM_DATA/shopify/'\n",
    "DIR_PATH  = MY_DATA_PATH + 'product_files/donson/'\n"
   ],
   "metadata": {
    "collapsed": false,
    "ExecuteTime": {
     "end_time": "2023-10-27T11:11:55.400466Z",
     "start_time": "2023-10-27T11:11:55.399442200Z"
    }
   },
   "id": "initial_id"
  },
  {
   "cell_type": "code",
   "execution_count": 16,
   "outputs": [],
   "source": [
    "product_df = pd.read_csv(DIR_PATH + 'TP.csv')\n",
    "vendor_df = pd.read_csv(DIR_PATH + 'Donson Vendor Parts.csv')"
   ],
   "metadata": {
    "collapsed": false,
    "ExecuteTime": {
     "end_time": "2023-10-27T12:35:11.157198500Z",
     "start_time": "2023-10-27T12:35:11.141537400Z"
    }
   },
   "id": "7e574e6ccbbff070"
  },
  {
   "cell_type": "code",
   "execution_count": 23,
   "outputs": [],
   "source": [
    "result = pd.merge(vendor_df, product_df,   left_on='Vend/Manuf. Part No.',right_on='PART NO.', how='right')\n"
   ],
   "metadata": {
    "collapsed": false,
    "ExecuteTime": {
     "end_time": "2023-10-27T12:43:00.231538400Z",
     "start_time": "2023-10-27T12:43:00.215585200Z"
    }
   },
   "id": "6b51d2aab0f1086d"
  },
  {
   "cell_type": "code",
   "execution_count": 24,
   "outputs": [],
   "source": [
    "last_year_df = pd.read_csv(DIR_PATH + 'last_year_sales_order.csv')"
   ],
   "metadata": {
    "collapsed": false,
    "ExecuteTime": {
     "end_time": "2023-10-27T12:43:39.047434900Z",
     "start_time": "2023-10-27T12:43:39.028233Z"
    }
   },
   "id": "22976c5a04cd18d6"
  },
  {
   "cell_type": "code",
   "execution_count": 25,
   "outputs": [],
   "source": [
    "part_numbers_active_last_year = last_year_df['Part Number'].unique()"
   ],
   "metadata": {
    "collapsed": false,
    "ExecuteTime": {
     "end_time": "2023-10-27T12:43:40.388899700Z",
     "start_time": "2023-10-27T12:43:40.379909400Z"
    }
   },
   "id": "51ff4c00d20328c6"
  },
  {
   "cell_type": "code",
   "execution_count": 26,
   "outputs": [],
   "source": [
    "active_productds_df = result[result['Part Number'].isin(part_numbers_active_last_year)].dropna(subset=['Vend/Manuf. Part No.'])"
   ],
   "metadata": {
    "collapsed": false,
    "ExecuteTime": {
     "end_time": "2023-10-27T12:43:41.294593400Z",
     "start_time": "2023-10-27T12:43:41.294087700Z"
    }
   },
   "id": "1cb92ae39f438ded"
  }
 ],
 "metadata": {
  "kernelspec": {
   "display_name": "Python 3",
   "language": "python",
   "name": "python3"
  },
  "language_info": {
   "codemirror_mode": {
    "name": "ipython",
    "version": 2
   },
   "file_extension": ".py",
   "mimetype": "text/x-python",
   "name": "python",
   "nbconvert_exporter": "python",
   "pygments_lexer": "ipython2",
   "version": "2.7.6"
  }
 },
 "nbformat": 4,
 "nbformat_minor": 5
}
