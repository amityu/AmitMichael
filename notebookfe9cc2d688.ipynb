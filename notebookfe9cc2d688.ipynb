{
  "metadata": {
    "kernelspec": {
      "name": "python3",
      "display_name": "Python 3"
    },
    "language_info": {
      "name": "python",
      "version": "3.10.13",
      "mimetype": "text/x-python",
      "codemirror_mode": {
        "name": "ipython",
        "version": 3
      },
      "pygments_lexer": "ipython3",
      "nbconvert_exporter": "python",
      "file_extension": ".py"
    },
    "colab": {
      "provenance": [],
      "machine_shape": "hm",
      "include_colab_link": true
    },
    "widgets": {
      "application/vnd.jupyter.widget-state+json": {
        "f1fc0feff70b4d2db1c5ff77b35a2d15": {
          "model_module": "@jupyter-widgets/controls",
          "model_name": "HBoxModel",
          "model_module_version": "1.5.0",
          "state": {
            "_dom_classes": [],
            "_model_module": "@jupyter-widgets/controls",
            "_model_module_version": "1.5.0",
            "_model_name": "HBoxModel",
            "_view_count": null,
            "_view_module": "@jupyter-widgets/controls",
            "_view_module_version": "1.5.0",
            "_view_name": "HBoxView",
            "box_style": "",
            "children": [
              "IPY_MODEL_65556c1722c84ef1865f2f9e8906963a",
              "IPY_MODEL_dcf5b7c0ee8945b298a57d7566024a12",
              "IPY_MODEL_c44d904d5bea400289cc87a9c43454f6"
            ],
            "layout": "IPY_MODEL_e5522f0f1ba343fc98505809d970fa48"
          }
        },
        "65556c1722c84ef1865f2f9e8906963a": {
          "model_module": "@jupyter-widgets/controls",
          "model_name": "HTMLModel",
          "model_module_version": "1.5.0",
          "state": {
            "_dom_classes": [],
            "_model_module": "@jupyter-widgets/controls",
            "_model_module_version": "1.5.0",
            "_model_name": "HTMLModel",
            "_view_count": null,
            "_view_module": "@jupyter-widgets/controls",
            "_view_module_version": "1.5.0",
            "_view_name": "HTMLView",
            "description": "",
            "description_tooltip": null,
            "layout": "IPY_MODEL_67b5a1ec25394b8d830455bd70552ed2",
            "placeholder": "​",
            "style": "IPY_MODEL_e3081959b00b49b1a9dd9b3c65448df8",
            "value": "Epoch 0:  16%"
          }
        },
        "dcf5b7c0ee8945b298a57d7566024a12": {
          "model_module": "@jupyter-widgets/controls",
          "model_name": "FloatProgressModel",
          "model_module_version": "1.5.0",
          "state": {
            "_dom_classes": [],
            "_model_module": "@jupyter-widgets/controls",
            "_model_module_version": "1.5.0",
            "_model_name": "FloatProgressModel",
            "_view_count": null,
            "_view_module": "@jupyter-widgets/controls",
            "_view_module_version": "1.5.0",
            "_view_name": "ProgressView",
            "bar_style": "",
            "description": "",
            "description_tooltip": null,
            "layout": "IPY_MODEL_a501c50d9aaa44b3add000d7eac5b847",
            "max": 752,
            "min": 0,
            "orientation": "horizontal",
            "style": "IPY_MODEL_556a6444e39344ba827dddfcac19ce34",
            "value": 119
          }
        },
        "c44d904d5bea400289cc87a9c43454f6": {
          "model_module": "@jupyter-widgets/controls",
          "model_name": "HTMLModel",
          "model_module_version": "1.5.0",
          "state": {
            "_dom_classes": [],
            "_model_module": "@jupyter-widgets/controls",
            "_model_module_version": "1.5.0",
            "_model_name": "HTMLModel",
            "_view_count": null,
            "_view_module": "@jupyter-widgets/controls",
            "_view_module_version": "1.5.0",
            "_view_name": "HTMLView",
            "description": "",
            "description_tooltip": null,
            "layout": "IPY_MODEL_e3007a02a6464c8298563356329cf7b2",
            "placeholder": "​",
            "style": "IPY_MODEL_c858bb839c4c4ba18d8c5138cebc4281",
            "value": " 118/752 [00:45&lt;04:03,  2.61it/s, v_num=6]"
          }
        },
        "e5522f0f1ba343fc98505809d970fa48": {
          "model_module": "@jupyter-widgets/base",
          "model_name": "LayoutModel",
          "model_module_version": "1.2.0",
          "state": {
            "_model_module": "@jupyter-widgets/base",
            "_model_module_version": "1.2.0",
            "_model_name": "LayoutModel",
            "_view_count": null,
            "_view_module": "@jupyter-widgets/base",
            "_view_module_version": "1.2.0",
            "_view_name": "LayoutView",
            "align_content": null,
            "align_items": null,
            "align_self": null,
            "border": null,
            "bottom": null,
            "display": "inline-flex",
            "flex": null,
            "flex_flow": "row wrap",
            "grid_area": null,
            "grid_auto_columns": null,
            "grid_auto_flow": null,
            "grid_auto_rows": null,
            "grid_column": null,
            "grid_gap": null,
            "grid_row": null,
            "grid_template_areas": null,
            "grid_template_columns": null,
            "grid_template_rows": null,
            "height": null,
            "justify_content": null,
            "justify_items": null,
            "left": null,
            "margin": null,
            "max_height": null,
            "max_width": null,
            "min_height": null,
            "min_width": null,
            "object_fit": null,
            "object_position": null,
            "order": null,
            "overflow": null,
            "overflow_x": null,
            "overflow_y": null,
            "padding": null,
            "right": null,
            "top": null,
            "visibility": null,
            "width": "100%"
          }
        },
        "67b5a1ec25394b8d830455bd70552ed2": {
          "model_module": "@jupyter-widgets/base",
          "model_name": "LayoutModel",
          "model_module_version": "1.2.0",
          "state": {
            "_model_module": "@jupyter-widgets/base",
            "_model_module_version": "1.2.0",
            "_model_name": "LayoutModel",
            "_view_count": null,
            "_view_module": "@jupyter-widgets/base",
            "_view_module_version": "1.2.0",
            "_view_name": "LayoutView",
            "align_content": null,
            "align_items": null,
            "align_self": null,
            "border": null,
            "bottom": null,
            "display": null,
            "flex": null,
            "flex_flow": null,
            "grid_area": null,
            "grid_auto_columns": null,
            "grid_auto_flow": null,
            "grid_auto_rows": null,
            "grid_column": null,
            "grid_gap": null,
            "grid_row": null,
            "grid_template_areas": null,
            "grid_template_columns": null,
            "grid_template_rows": null,
            "height": null,
            "justify_content": null,
            "justify_items": null,
            "left": null,
            "margin": null,
            "max_height": null,
            "max_width": null,
            "min_height": null,
            "min_width": null,
            "object_fit": null,
            "object_position": null,
            "order": null,
            "overflow": null,
            "overflow_x": null,
            "overflow_y": null,
            "padding": null,
            "right": null,
            "top": null,
            "visibility": null,
            "width": null
          }
        },
        "e3081959b00b49b1a9dd9b3c65448df8": {
          "model_module": "@jupyter-widgets/controls",
          "model_name": "DescriptionStyleModel",
          "model_module_version": "1.5.0",
          "state": {
            "_model_module": "@jupyter-widgets/controls",
            "_model_module_version": "1.5.0",
            "_model_name": "DescriptionStyleModel",
            "_view_count": null,
            "_view_module": "@jupyter-widgets/base",
            "_view_module_version": "1.2.0",
            "_view_name": "StyleView",
            "description_width": ""
          }
        },
        "a501c50d9aaa44b3add000d7eac5b847": {
          "model_module": "@jupyter-widgets/base",
          "model_name": "LayoutModel",
          "model_module_version": "1.2.0",
          "state": {
            "_model_module": "@jupyter-widgets/base",
            "_model_module_version": "1.2.0",
            "_model_name": "LayoutModel",
            "_view_count": null,
            "_view_module": "@jupyter-widgets/base",
            "_view_module_version": "1.2.0",
            "_view_name": "LayoutView",
            "align_content": null,
            "align_items": null,
            "align_self": null,
            "border": null,
            "bottom": null,
            "display": null,
            "flex": "2",
            "flex_flow": null,
            "grid_area": null,
            "grid_auto_columns": null,
            "grid_auto_flow": null,
            "grid_auto_rows": null,
            "grid_column": null,
            "grid_gap": null,
            "grid_row": null,
            "grid_template_areas": null,
            "grid_template_columns": null,
            "grid_template_rows": null,
            "height": null,
            "justify_content": null,
            "justify_items": null,
            "left": null,
            "margin": null,
            "max_height": null,
            "max_width": null,
            "min_height": null,
            "min_width": null,
            "object_fit": null,
            "object_position": null,
            "order": null,
            "overflow": null,
            "overflow_x": null,
            "overflow_y": null,
            "padding": null,
            "right": null,
            "top": null,
            "visibility": null,
            "width": null
          }
        },
        "556a6444e39344ba827dddfcac19ce34": {
          "model_module": "@jupyter-widgets/controls",
          "model_name": "ProgressStyleModel",
          "model_module_version": "1.5.0",
          "state": {
            "_model_module": "@jupyter-widgets/controls",
            "_model_module_version": "1.5.0",
            "_model_name": "ProgressStyleModel",
            "_view_count": null,
            "_view_module": "@jupyter-widgets/base",
            "_view_module_version": "1.2.0",
            "_view_name": "StyleView",
            "bar_color": null,
            "description_width": ""
          }
        },
        "e3007a02a6464c8298563356329cf7b2": {
          "model_module": "@jupyter-widgets/base",
          "model_name": "LayoutModel",
          "model_module_version": "1.2.0",
          "state": {
            "_model_module": "@jupyter-widgets/base",
            "_model_module_version": "1.2.0",
            "_model_name": "LayoutModel",
            "_view_count": null,
            "_view_module": "@jupyter-widgets/base",
            "_view_module_version": "1.2.0",
            "_view_name": "LayoutView",
            "align_content": null,
            "align_items": null,
            "align_self": null,
            "border": null,
            "bottom": null,
            "display": null,
            "flex": null,
            "flex_flow": null,
            "grid_area": null,
            "grid_auto_columns": null,
            "grid_auto_flow": null,
            "grid_auto_rows": null,
            "grid_column": null,
            "grid_gap": null,
            "grid_row": null,
            "grid_template_areas": null,
            "grid_template_columns": null,
            "grid_template_rows": null,
            "height": null,
            "justify_content": null,
            "justify_items": null,
            "left": null,
            "margin": null,
            "max_height": null,
            "max_width": null,
            "min_height": null,
            "min_width": null,
            "object_fit": null,
            "object_position": null,
            "order": null,
            "overflow": null,
            "overflow_x": null,
            "overflow_y": null,
            "padding": null,
            "right": null,
            "top": null,
            "visibility": null,
            "width": null
          }
        },
        "c858bb839c4c4ba18d8c5138cebc4281": {
          "model_module": "@jupyter-widgets/controls",
          "model_name": "DescriptionStyleModel",
          "model_module_version": "1.5.0",
          "state": {
            "_model_module": "@jupyter-widgets/controls",
            "_model_module_version": "1.5.0",
            "_model_name": "DescriptionStyleModel",
            "_view_count": null,
            "_view_module": "@jupyter-widgets/base",
            "_view_module_version": "1.2.0",
            "_view_name": "StyleView",
            "description_width": ""
          }
        }
      }
    },
    "kaggle": {
      "accelerator": "none",
      "dataSources": [
        {
          "sourceId": 7723162,
          "sourceType": "datasetVersion",
          "datasetId": 4511654
        }
      ],
      "dockerImageVersionId": 30664,
      "isInternetEnabled": false,
      "language": "python",
      "sourceType": "notebook",
      "isGpuEnabled": false
    }
  },
  "nbformat_minor": 5,
  "nbformat": 4,
  "cells": [
    {
      "cell_type": "markdown",
      "metadata": {
        "id": "view-in-github",
        "colab_type": "text"
      },
      "source": [
        "<a href=\"https://colab.research.google.com/github/amityu/AmitMichael/blob/master/notebookfe9cc2d688.ipynb\" target=\"_parent\"><img src=\"https://colab.research.google.com/assets/colab-badge.svg\" alt=\"Open In Colab\"/></a>"
      ]
    },
    {
      "cell_type": "code",
      "source": [
        "!pip install pytorch-lightning"
      ],
      "metadata": {
        "id": "initial_id",
        "outputId": "c81b6cec-e336-4663-92f8-225905d5e4c7",
        "colab": {
          "base_uri": "https://localhost:8080/"
        },
        "execution": {
          "iopub.status.busy": "2024-02-28T19:27:14.982296Z",
          "iopub.execute_input": "2024-02-28T19:27:14.983380Z",
          "iopub.status.idle": "2024-02-28T19:27:29.015898Z",
          "shell.execute_reply.started": "2024-02-28T19:27:14.983327Z",
          "shell.execute_reply": "2024-02-28T19:27:29.014954Z"
        },
        "trusted": true
      },
      "execution_count": 3,
      "outputs": [
        {
          "output_type": "stream",
          "name": "stdout",
          "text": [
            "Collecting pytorch-lightning\n",
            "  Downloading pytorch_lightning-2.2.0.post0-py3-none-any.whl (800 kB)\n",
            "\u001b[2K     \u001b[90m━━━━━━━━━━━━━━━━━━━━━━━━━━━━━━━━━━━━━━━━\u001b[0m \u001b[32m800.9/800.9 kB\u001b[0m \u001b[31m7.7 MB/s\u001b[0m eta \u001b[36m0:00:00\u001b[0m\n",
            "\u001b[?25hRequirement already satisfied: numpy>=1.17.2 in /usr/local/lib/python3.10/dist-packages (from pytorch-lightning) (1.25.2)\n",
            "Requirement already satisfied: torch>=1.13.0 in /usr/local/lib/python3.10/dist-packages (from pytorch-lightning) (2.1.0+cu121)\n",
            "Requirement already satisfied: tqdm>=4.57.0 in /usr/local/lib/python3.10/dist-packages (from pytorch-lightning) (4.66.2)\n",
            "Requirement already satisfied: PyYAML>=5.4 in /usr/local/lib/python3.10/dist-packages (from pytorch-lightning) (6.0.1)\n",
            "Requirement already satisfied: fsspec[http]>=2022.5.0 in /usr/local/lib/python3.10/dist-packages (from pytorch-lightning) (2023.6.0)\n",
            "Collecting torchmetrics>=0.7.0 (from pytorch-lightning)\n",
            "  Downloading torchmetrics-1.3.1-py3-none-any.whl (840 kB)\n",
            "\u001b[2K     \u001b[90m━━━━━━━━━━━━━━━━━━━━━━━━━━━━━━━━━━━━━━━━\u001b[0m \u001b[32m840.4/840.4 kB\u001b[0m \u001b[31m12.3 MB/s\u001b[0m eta \u001b[36m0:00:00\u001b[0m\n",
            "\u001b[?25hRequirement already satisfied: packaging>=20.0 in /usr/local/lib/python3.10/dist-packages (from pytorch-lightning) (23.2)\n",
            "Requirement already satisfied: typing-extensions>=4.4.0 in /usr/local/lib/python3.10/dist-packages (from pytorch-lightning) (4.9.0)\n",
            "Collecting lightning-utilities>=0.8.0 (from pytorch-lightning)\n",
            "  Downloading lightning_utilities-0.10.1-py3-none-any.whl (24 kB)\n",
            "Requirement already satisfied: requests in /usr/local/lib/python3.10/dist-packages (from fsspec[http]>=2022.5.0->pytorch-lightning) (2.31.0)\n",
            "Requirement already satisfied: aiohttp!=4.0.0a0,!=4.0.0a1 in /usr/local/lib/python3.10/dist-packages (from fsspec[http]>=2022.5.0->pytorch-lightning) (3.9.3)\n",
            "Requirement already satisfied: setuptools in /usr/local/lib/python3.10/dist-packages (from lightning-utilities>=0.8.0->pytorch-lightning) (67.7.2)\n",
            "Requirement already satisfied: filelock in /usr/local/lib/python3.10/dist-packages (from torch>=1.13.0->pytorch-lightning) (3.13.1)\n",
            "Requirement already satisfied: sympy in /usr/local/lib/python3.10/dist-packages (from torch>=1.13.0->pytorch-lightning) (1.12)\n",
            "Requirement already satisfied: networkx in /usr/local/lib/python3.10/dist-packages (from torch>=1.13.0->pytorch-lightning) (3.2.1)\n",
            "Requirement already satisfied: jinja2 in /usr/local/lib/python3.10/dist-packages (from torch>=1.13.0->pytorch-lightning) (3.1.3)\n",
            "Requirement already satisfied: triton==2.1.0 in /usr/local/lib/python3.10/dist-packages (from torch>=1.13.0->pytorch-lightning) (2.1.0)\n",
            "Requirement already satisfied: aiosignal>=1.1.2 in /usr/local/lib/python3.10/dist-packages (from aiohttp!=4.0.0a0,!=4.0.0a1->fsspec[http]>=2022.5.0->pytorch-lightning) (1.3.1)\n",
            "Requirement already satisfied: attrs>=17.3.0 in /usr/local/lib/python3.10/dist-packages (from aiohttp!=4.0.0a0,!=4.0.0a1->fsspec[http]>=2022.5.0->pytorch-lightning) (23.2.0)\n",
            "Requirement already satisfied: frozenlist>=1.1.1 in /usr/local/lib/python3.10/dist-packages (from aiohttp!=4.0.0a0,!=4.0.0a1->fsspec[http]>=2022.5.0->pytorch-lightning) (1.4.1)\n",
            "Requirement already satisfied: multidict<7.0,>=4.5 in /usr/local/lib/python3.10/dist-packages (from aiohttp!=4.0.0a0,!=4.0.0a1->fsspec[http]>=2022.5.0->pytorch-lightning) (6.0.5)\n",
            "Requirement already satisfied: yarl<2.0,>=1.0 in /usr/local/lib/python3.10/dist-packages (from aiohttp!=4.0.0a0,!=4.0.0a1->fsspec[http]>=2022.5.0->pytorch-lightning) (1.9.4)\n",
            "Requirement already satisfied: async-timeout<5.0,>=4.0 in /usr/local/lib/python3.10/dist-packages (from aiohttp!=4.0.0a0,!=4.0.0a1->fsspec[http]>=2022.5.0->pytorch-lightning) (4.0.3)\n",
            "Requirement already satisfied: MarkupSafe>=2.0 in /usr/local/lib/python3.10/dist-packages (from jinja2->torch>=1.13.0->pytorch-lightning) (2.1.5)\n",
            "Requirement already satisfied: charset-normalizer<4,>=2 in /usr/local/lib/python3.10/dist-packages (from requests->fsspec[http]>=2022.5.0->pytorch-lightning) (3.3.2)\n",
            "Requirement already satisfied: idna<4,>=2.5 in /usr/local/lib/python3.10/dist-packages (from requests->fsspec[http]>=2022.5.0->pytorch-lightning) (3.6)\n",
            "Requirement already satisfied: urllib3<3,>=1.21.1 in /usr/local/lib/python3.10/dist-packages (from requests->fsspec[http]>=2022.5.0->pytorch-lightning) (2.0.7)\n",
            "Requirement already satisfied: certifi>=2017.4.17 in /usr/local/lib/python3.10/dist-packages (from requests->fsspec[http]>=2022.5.0->pytorch-lightning) (2024.2.2)\n",
            "Requirement already satisfied: mpmath>=0.19 in /usr/local/lib/python3.10/dist-packages (from sympy->torch>=1.13.0->pytorch-lightning) (1.3.0)\n",
            "Installing collected packages: lightning-utilities, torchmetrics, pytorch-lightning\n",
            "Successfully installed lightning-utilities-0.10.1 pytorch-lightning-2.2.0.post0 torchmetrics-1.3.1\n"
          ]
        }
      ],
      "id": "initial_id"
    },
    {
      "cell_type": "code",
      "source": [
        "import pandas as pd\n",
        "from pytorch_lightning.utilities.types import EVAL_DATALOADERS\n",
        "#import YARCN\n",
        "import torch\n",
        "import torch.nn as nn\n",
        "import random\n",
        "import numpy as np\n",
        "import torchmetrics\n",
        "from torch.utils.data import Dataset, DataLoader, random_split\n",
        "import pytorch_lightning as pl\n",
        "\n",
        "from torch.utils.data import random_split\n",
        "CHECK_PATH =r'D:\\amityu\\rec_data' +'/cp/'\n",
        "dnn_path = 'C:/Users/amityu/red_data_c/dnn/'\n",
        "DATA_PATH = 'C:/Users/amityu/red_data_c/'\n",
        "DATA_PATHD = 'D:/amityu/rec_data/'\n",
        "\n",
        "class RCM(pl.LightningModule):\n",
        "\n",
        "    def __init__(self,max_user_id= 544873, max_item_id=51270, max_source=93150, max_campaign = 19000, dim=64,\n",
        "                 user_id_dim = 1, item_id_dim=16, source_dim =16, campaign_dim = 12,\n",
        "                 placement_id_dim = 8, syndicator_dim = 8, region_dim =8,\n",
        "                 placement_max =1405, syndicator_max = 2350, region_max = 1035):\n",
        "        super().__init__()\n",
        "        user_numerical_columns = ['page_view_start_time', 'user_recs', 'user_clicks', 'user_target_recs']\n",
        "        item_numerical_columns = [    'empiric_calibrated_recs','empiric_clicks']\n",
        "        user_oh_cat_columns = list(pd.read_csv('/content/drive/MyDrive/reco2/user_oh_col')['column'])\n",
        "        item_oh_cat_columns = list(pd.read_csv('/content/drive/MyDrive/reco2/item_oh_col')['column'])\n",
        "\n",
        "        self.save_hyperparameters()\n",
        "        self.placement_id = nn.Embedding(num_embeddings=placement_max, embedding_dim=placement_id_dim)\n",
        "        self.syndicator = nn.Embedding(num_embeddings=syndicator_max, embedding_dim=syndicator_dim)\n",
        "        self.region = nn.Embedding(num_embeddings=region_max, embedding_dim=region_dim)\n",
        "        self.target_id = nn.Embedding(num_embeddings=max_item_id, embedding_dim=item_id_dim)\n",
        "\n",
        "        #self.user_id = nn.Embedding(num_embeddings=max_user_id, embedding_dim=user_id_dim)\n",
        "        self.source = nn.Embedding(num_embeddings=max_source, embedding_dim=source_dim)\n",
        "\n",
        "        self.campaign = nn.Embedding(num_embeddings=max_campaign, embedding_dim=campaign_dim)\n",
        "\n",
        "        self.fc_user = nn.Linear(in_features=len(user_numerical_columns + user_oh_cat_columns), out_features=dim)\n",
        "        #self.fc_user_full = nn.Linear(in_features=user_id_dim + region_dim + dim, out_features=dim)\n",
        "        self.fc_user_full = nn.Linear(in_features= region_dim + dim, out_features=dim)\n",
        "        #self.fc_user_full = nn.Linear(in_features=dim, out_features=dim)\n",
        "\n",
        "        self.fc_item = nn.Linear(in_features=len(item_oh_cat_columns + item_numerical_columns) , out_features=dim)\n",
        "        self.fc_item_full = nn.Linear(in_features= dim + campaign_dim + source_dim + item_id_dim + syndicator_dim +\n",
        "                                                   placement_id_dim, out_features=dim)\n",
        "        #self.fm = nn.Linear(in_features = dim*2, out_features =dim)\n",
        "        self.deep = nn.Linear(in_features=dim*2, out_features=dim*2)\n",
        "        self.validation_auc = torchmetrics.AUROC(task='binary')\n",
        "        self.output = nn.Linear(2*dim, out_features=1)\n",
        "        self.dim = dim\n",
        "\n",
        "    def forward(self, x):\n",
        "        (user, region, item, target_id, source,campaign, syndicator, placement_id) = x\n",
        "        # Pass through embedding layers\n",
        "        relu = nn.ReLU()\n",
        "        user_embedded = relu(self.fc_user(user))\n",
        "        #user_id_embedded = self.user_id(user_id)\n",
        "        region_embedded = self.region(region)\n",
        "        #user_embedded_full = relu(self.fc_user_full(torch.cat([user_id_embedded, region_embedded, user_embedded], dim=1)))\n",
        "        user_embedded_full = relu(self.fc_user_full(torch.cat([region_embedded, user_embedded], dim=1)))\n",
        "\n",
        "\n",
        "        item_embedded = relu(self.fc_item(item))\n",
        "        item_id_embedded = self.target_id(target_id)\n",
        "        source_embedded = self.source(source)\n",
        "        campaign_embedded = self.campaign(campaign)\n",
        "        syndicator_embedded = self.syndicator(syndicator)\n",
        "        placement__embedded = self.placement_id(placement_id)\n",
        "        item_embedded_full = relu(self.fc_item_full(torch.cat([item_embedded, item_id_embedded, source_embedded, campaign_embedded, syndicator_embedded, placement__embedded], dim=1)))\n",
        "\n",
        "        #fac_machine_vector = relu(self.fm(torch.cat([user_embedded_full, item_embedded_full], dim=1)))\n",
        "        deep_vector = relu(self.deep(torch.cat([user_embedded_full, item_embedded_full], dim=1)))\n",
        "        pred = self.output(deep_vector)\n",
        "        return pred\n",
        "\n",
        "    def training_step(self, batch, batch_idx):\n",
        "        x, labels = batch\n",
        "\n",
        "        predicted_labels = self(x)\n",
        "        loss = nn.BCEWithLogitsLoss()(predicted_labels.view(-1,1), labels.view(-1,1).float())\n",
        "        return loss\n",
        "\n",
        "    def validation_step(self, batch, batch_idx):\n",
        "        #(user, user_id,region, item, target_id, source,campaign, syndicator, placement_id), labels = batch\n",
        "        x, labels = batch\n",
        "\n",
        "        predicted_logits = self(x)\n",
        "        loss = nn.BCEWithLogitsLoss()(predicted_logits.view(-1,1), labels.view(-1,1).float())\n",
        "        self.log('val_loss', loss, prog_bar=True)\n",
        "        preds = torch.sigmoid(predicted_logits)\n",
        "        self.validation_auc.update(preds.squeeze(), labels)\n",
        "        self.log('val_auc', self.validation_auc, prog_bar=True)\n",
        "\n",
        "    #def on_validation_epoch_end(self, outputs):\n",
        "    #    self.log('val_auc_epoch', self.validation_auc.compute(), prog_bar=True)\n",
        "    #    self.validation_auc.reset()\n",
        "    def configure_optimizers(self):\n",
        "        opt = torch.optim.Adam(self.parameters(), lr = 0.001)\n",
        "        return opt\n",
        "\n",
        "\n"
      ],
      "metadata": {
        "id": "fbaf5f8229ffb863",
        "execution": {
          "iopub.status.busy": "2024-02-28T19:27:29.021431Z",
          "iopub.execute_input": "2024-02-28T19:27:29.021751Z",
          "iopub.status.idle": "2024-02-28T19:27:38.453126Z",
          "shell.execute_reply.started": "2024-02-28T19:27:29.021721Z",
          "shell.execute_reply": "2024-02-28T19:27:38.452207Z"
        },
        "scrolled": true,
        "trusted": true
      },
      "execution_count": 52,
      "outputs": [],
      "id": "fbaf5f8229ffb863"
    },
    {
      "cell_type": "code",
      "source": [
        "class FMds2(Dataset):\n",
        "    def __init__(self,ds_df):\n",
        "\n",
        "        user_numerical_columns = ['page_view_start_time', 'user_recs', 'user_clicks', 'user_target_recs']\n",
        "        item_numerical_columns = [    'empiric_calibrated_recs','empiric_clicks']\n",
        "        user_oh_cat_columns = list(pd.read_csv('/content/drive/MyDrive/reco2/user_oh_col')['column'])\n",
        "        item_oh_cat_columns = list(pd.read_csv('/content/drive/MyDrive/reco2/item_oh_col')['column'])\n",
        "        print(user_oh_cat_columns)\n",
        "        self.user = ds_df[user_oh_cat_columns + user_numerical_columns].astype(np.float32)\n",
        "        self.item = ds_df[item_oh_cat_columns + item_numerical_columns].astype(np.float32)\n",
        "        self.target_id = ds_df['target_id_hash'].astype(int)\n",
        "        self.source = ds_df['source_id_hash'].astype(int)\n",
        "        self.campaign = ds_df['campaign_id_hash'].astype(int)\n",
        "        #self.user_id = ds_df['user_id_hash']\n",
        "        self.region = ds_df['region'].astype(int)\n",
        "        self.syndicator = ds_df['syndicator_id_hash'].astype(int)\n",
        "        self.placement_id = ds_df['placement_id_hash'].astype(int)\n",
        "        self.labels = ds_df['is_click'].astype(int)\n",
        "    def __getitem__(self, index):\n",
        "        return (torch.tensor(self.user.iloc[index]), torch.tensor(self.region.iloc[index]),\n",
        "                torch.tensor(self.item.iloc[index]), torch.tensor(self.target_id.iloc[index]), torch.tensor(self.source.iloc[index]),\n",
        "                torch.tensor(self.campaign.iloc[index]), torch.tensor(self.syndicator.iloc[index]), torch.tensor(self.placement_id.iloc[index]),\n",
        "                ), torch.tensor(self.labels.iloc[index])\n",
        "    def __len__(self):\n",
        "        return len (self.user)\n",
        "\n",
        "\n"
      ],
      "metadata": {
        "id": "2dba63975bd7d224",
        "execution": {
          "iopub.status.busy": "2024-02-28T19:28:41.624593Z",
          "iopub.execute_input": "2024-02-28T19:28:41.625011Z",
          "iopub.status.idle": "2024-02-28T19:28:41.635305Z",
          "shell.execute_reply.started": "2024-02-28T19:28:41.624983Z",
          "shell.execute_reply": "2024-02-28T19:28:41.634356Z"
        },
        "trusted": true
      },
      "execution_count": 53,
      "outputs": [],
      "id": "2dba63975bd7d224"
    },
    {
      "cell_type": "code",
      "source": [
        "from google.colab import drive\n",
        "drive.mount('/content/drive')"
      ],
      "metadata": {
        "colab": {
          "base_uri": "https://localhost:8080/"
        },
        "id": "YsHOBfcSk6sw",
        "outputId": "77ff9b38-9733-4458-a581-1ce3fd9d9ed9"
      },
      "id": "YsHOBfcSk6sw",
      "execution_count": 6,
      "outputs": [
        {
          "output_type": "stream",
          "name": "stdout",
          "text": [
            "Mounted at /content/drive\n"
          ]
        }
      ]
    },
    {
      "cell_type": "code",
      "source": [
        "df = pd.read_csv('/content/drive/MyDrive/reco2/train_small_few_cat.csv)\n"
      ],
      "metadata": {
        "id": "3ZEAzHuPH5zi",
        "execution": {
          "iopub.status.busy": "2024-02-28T19:36:59.850125Z",
          "iopub.execute_input": "2024-02-28T19:36:59.850551Z",
          "iopub.status.idle": "2024-02-28T19:37:33.646214Z",
          "shell.execute_reply.started": "2024-02-28T19:36:59.850522Z",
          "shell.execute_reply": "2024-02-28T19:37:33.645051Z"
        },
        "trusted": true,
        "colab": {
          "base_uri": "https://localhost:8080/",
          "height": 310
        },
        "outputId": "e1ffc98d-f495-4e41-f08f-e0a24c2a5022"
      },
      "execution_count": 51,
      "outputs": [
        {
          "output_type": "error",
          "ename": "FileNotFoundError",
          "evalue": "[Errno 2] No such file or directory: '/content/drive/MyDrive/reco2/train_df_encoded.csv'",
          "traceback": [
            "\u001b[0;31m---------------------------------------------------------------------------\u001b[0m",
            "\u001b[0;31mFileNotFoundError\u001b[0m                         Traceback (most recent call last)",
            "\u001b[0;32m<ipython-input-51-2c15f371767f>\u001b[0m in \u001b[0;36m<cell line: 1>\u001b[0;34m()\u001b[0m\n\u001b[0;32m----> 1\u001b[0;31m \u001b[0mdf\u001b[0m \u001b[0;34m=\u001b[0m \u001b[0mpd\u001b[0m\u001b[0;34m.\u001b[0m\u001b[0mread_csv\u001b[0m\u001b[0;34m(\u001b[0m\u001b[0;34m'/content/drive/MyDrive/reco2/train_df_encoded.csv'\u001b[0m\u001b[0;34m)\u001b[0m\u001b[0;34m\u001b[0m\u001b[0;34m\u001b[0m\u001b[0m\n\u001b[0m",
            "\u001b[0;32m/usr/local/lib/python3.10/dist-packages/pandas/util/_decorators.py\u001b[0m in \u001b[0;36mwrapper\u001b[0;34m(*args, **kwargs)\u001b[0m\n\u001b[1;32m    209\u001b[0m                 \u001b[0;32melse\u001b[0m\u001b[0;34m:\u001b[0m\u001b[0;34m\u001b[0m\u001b[0;34m\u001b[0m\u001b[0m\n\u001b[1;32m    210\u001b[0m                     \u001b[0mkwargs\u001b[0m\u001b[0;34m[\u001b[0m\u001b[0mnew_arg_name\u001b[0m\u001b[0;34m]\u001b[0m \u001b[0;34m=\u001b[0m \u001b[0mnew_arg_value\u001b[0m\u001b[0;34m\u001b[0m\u001b[0;34m\u001b[0m\u001b[0m\n\u001b[0;32m--> 211\u001b[0;31m             \u001b[0;32mreturn\u001b[0m \u001b[0mfunc\u001b[0m\u001b[0;34m(\u001b[0m\u001b[0;34m*\u001b[0m\u001b[0margs\u001b[0m\u001b[0;34m,\u001b[0m \u001b[0;34m**\u001b[0m\u001b[0mkwargs\u001b[0m\u001b[0;34m)\u001b[0m\u001b[0;34m\u001b[0m\u001b[0;34m\u001b[0m\u001b[0m\n\u001b[0m\u001b[1;32m    212\u001b[0m \u001b[0;34m\u001b[0m\u001b[0m\n\u001b[1;32m    213\u001b[0m         \u001b[0;32mreturn\u001b[0m \u001b[0mcast\u001b[0m\u001b[0;34m(\u001b[0m\u001b[0mF\u001b[0m\u001b[0;34m,\u001b[0m \u001b[0mwrapper\u001b[0m\u001b[0;34m)\u001b[0m\u001b[0;34m\u001b[0m\u001b[0;34m\u001b[0m\u001b[0m\n",
            "\u001b[0;32m/usr/local/lib/python3.10/dist-packages/pandas/util/_decorators.py\u001b[0m in \u001b[0;36mwrapper\u001b[0;34m(*args, **kwargs)\u001b[0m\n\u001b[1;32m    329\u001b[0m                     \u001b[0mstacklevel\u001b[0m\u001b[0;34m=\u001b[0m\u001b[0mfind_stack_level\u001b[0m\u001b[0;34m(\u001b[0m\u001b[0;34m)\u001b[0m\u001b[0;34m,\u001b[0m\u001b[0;34m\u001b[0m\u001b[0;34m\u001b[0m\u001b[0m\n\u001b[1;32m    330\u001b[0m                 )\n\u001b[0;32m--> 331\u001b[0;31m             \u001b[0;32mreturn\u001b[0m \u001b[0mfunc\u001b[0m\u001b[0;34m(\u001b[0m\u001b[0;34m*\u001b[0m\u001b[0margs\u001b[0m\u001b[0;34m,\u001b[0m \u001b[0;34m**\u001b[0m\u001b[0mkwargs\u001b[0m\u001b[0;34m)\u001b[0m\u001b[0;34m\u001b[0m\u001b[0;34m\u001b[0m\u001b[0m\n\u001b[0m\u001b[1;32m    332\u001b[0m \u001b[0;34m\u001b[0m\u001b[0m\n\u001b[1;32m    333\u001b[0m         \u001b[0;31m# error: \"Callable[[VarArg(Any), KwArg(Any)], Any]\" has no\u001b[0m\u001b[0;34m\u001b[0m\u001b[0;34m\u001b[0m\u001b[0m\n",
            "\u001b[0;32m/usr/local/lib/python3.10/dist-packages/pandas/io/parsers/readers.py\u001b[0m in \u001b[0;36mread_csv\u001b[0;34m(filepath_or_buffer, sep, delimiter, header, names, index_col, usecols, squeeze, prefix, mangle_dupe_cols, dtype, engine, converters, true_values, false_values, skipinitialspace, skiprows, skipfooter, nrows, na_values, keep_default_na, na_filter, verbose, skip_blank_lines, parse_dates, infer_datetime_format, keep_date_col, date_parser, dayfirst, cache_dates, iterator, chunksize, compression, thousands, decimal, lineterminator, quotechar, quoting, doublequote, escapechar, comment, encoding, encoding_errors, dialect, error_bad_lines, warn_bad_lines, on_bad_lines, delim_whitespace, low_memory, memory_map, float_precision, storage_options)\u001b[0m\n\u001b[1;32m    948\u001b[0m     \u001b[0mkwds\u001b[0m\u001b[0;34m.\u001b[0m\u001b[0mupdate\u001b[0m\u001b[0;34m(\u001b[0m\u001b[0mkwds_defaults\u001b[0m\u001b[0;34m)\u001b[0m\u001b[0;34m\u001b[0m\u001b[0;34m\u001b[0m\u001b[0m\n\u001b[1;32m    949\u001b[0m \u001b[0;34m\u001b[0m\u001b[0m\n\u001b[0;32m--> 950\u001b[0;31m     \u001b[0;32mreturn\u001b[0m \u001b[0m_read\u001b[0m\u001b[0;34m(\u001b[0m\u001b[0mfilepath_or_buffer\u001b[0m\u001b[0;34m,\u001b[0m \u001b[0mkwds\u001b[0m\u001b[0;34m)\u001b[0m\u001b[0;34m\u001b[0m\u001b[0;34m\u001b[0m\u001b[0m\n\u001b[0m\u001b[1;32m    951\u001b[0m \u001b[0;34m\u001b[0m\u001b[0m\n\u001b[1;32m    952\u001b[0m \u001b[0;34m\u001b[0m\u001b[0m\n",
            "\u001b[0;32m/usr/local/lib/python3.10/dist-packages/pandas/io/parsers/readers.py\u001b[0m in \u001b[0;36m_read\u001b[0;34m(filepath_or_buffer, kwds)\u001b[0m\n\u001b[1;32m    603\u001b[0m \u001b[0;34m\u001b[0m\u001b[0m\n\u001b[1;32m    604\u001b[0m     \u001b[0;31m# Create the parser.\u001b[0m\u001b[0;34m\u001b[0m\u001b[0;34m\u001b[0m\u001b[0m\n\u001b[0;32m--> 605\u001b[0;31m     \u001b[0mparser\u001b[0m \u001b[0;34m=\u001b[0m \u001b[0mTextFileReader\u001b[0m\u001b[0;34m(\u001b[0m\u001b[0mfilepath_or_buffer\u001b[0m\u001b[0;34m,\u001b[0m \u001b[0;34m**\u001b[0m\u001b[0mkwds\u001b[0m\u001b[0;34m)\u001b[0m\u001b[0;34m\u001b[0m\u001b[0;34m\u001b[0m\u001b[0m\n\u001b[0m\u001b[1;32m    606\u001b[0m \u001b[0;34m\u001b[0m\u001b[0m\n\u001b[1;32m    607\u001b[0m     \u001b[0;32mif\u001b[0m \u001b[0mchunksize\u001b[0m \u001b[0;32mor\u001b[0m \u001b[0miterator\u001b[0m\u001b[0;34m:\u001b[0m\u001b[0;34m\u001b[0m\u001b[0;34m\u001b[0m\u001b[0m\n",
            "\u001b[0;32m/usr/local/lib/python3.10/dist-packages/pandas/io/parsers/readers.py\u001b[0m in \u001b[0;36m__init__\u001b[0;34m(self, f, engine, **kwds)\u001b[0m\n\u001b[1;32m   1440\u001b[0m \u001b[0;34m\u001b[0m\u001b[0m\n\u001b[1;32m   1441\u001b[0m         \u001b[0mself\u001b[0m\u001b[0;34m.\u001b[0m\u001b[0mhandles\u001b[0m\u001b[0;34m:\u001b[0m \u001b[0mIOHandles\u001b[0m \u001b[0;34m|\u001b[0m \u001b[0;32mNone\u001b[0m \u001b[0;34m=\u001b[0m \u001b[0;32mNone\u001b[0m\u001b[0;34m\u001b[0m\u001b[0;34m\u001b[0m\u001b[0m\n\u001b[0;32m-> 1442\u001b[0;31m         \u001b[0mself\u001b[0m\u001b[0;34m.\u001b[0m\u001b[0m_engine\u001b[0m \u001b[0;34m=\u001b[0m \u001b[0mself\u001b[0m\u001b[0;34m.\u001b[0m\u001b[0m_make_engine\u001b[0m\u001b[0;34m(\u001b[0m\u001b[0mf\u001b[0m\u001b[0;34m,\u001b[0m \u001b[0mself\u001b[0m\u001b[0;34m.\u001b[0m\u001b[0mengine\u001b[0m\u001b[0;34m)\u001b[0m\u001b[0;34m\u001b[0m\u001b[0;34m\u001b[0m\u001b[0m\n\u001b[0m\u001b[1;32m   1443\u001b[0m \u001b[0;34m\u001b[0m\u001b[0m\n\u001b[1;32m   1444\u001b[0m     \u001b[0;32mdef\u001b[0m \u001b[0mclose\u001b[0m\u001b[0;34m(\u001b[0m\u001b[0mself\u001b[0m\u001b[0;34m)\u001b[0m \u001b[0;34m->\u001b[0m \u001b[0;32mNone\u001b[0m\u001b[0;34m:\u001b[0m\u001b[0;34m\u001b[0m\u001b[0;34m\u001b[0m\u001b[0m\n",
            "\u001b[0;32m/usr/local/lib/python3.10/dist-packages/pandas/io/parsers/readers.py\u001b[0m in \u001b[0;36m_make_engine\u001b[0;34m(self, f, engine)\u001b[0m\n\u001b[1;32m   1733\u001b[0m                 \u001b[0;32mif\u001b[0m \u001b[0;34m\"b\"\u001b[0m \u001b[0;32mnot\u001b[0m \u001b[0;32min\u001b[0m \u001b[0mmode\u001b[0m\u001b[0;34m:\u001b[0m\u001b[0;34m\u001b[0m\u001b[0;34m\u001b[0m\u001b[0m\n\u001b[1;32m   1734\u001b[0m                     \u001b[0mmode\u001b[0m \u001b[0;34m+=\u001b[0m \u001b[0;34m\"b\"\u001b[0m\u001b[0;34m\u001b[0m\u001b[0;34m\u001b[0m\u001b[0m\n\u001b[0;32m-> 1735\u001b[0;31m             self.handles = get_handle(\n\u001b[0m\u001b[1;32m   1736\u001b[0m                 \u001b[0mf\u001b[0m\u001b[0;34m,\u001b[0m\u001b[0;34m\u001b[0m\u001b[0;34m\u001b[0m\u001b[0m\n\u001b[1;32m   1737\u001b[0m                 \u001b[0mmode\u001b[0m\u001b[0;34m,\u001b[0m\u001b[0;34m\u001b[0m\u001b[0;34m\u001b[0m\u001b[0m\n",
            "\u001b[0;32m/usr/local/lib/python3.10/dist-packages/pandas/io/common.py\u001b[0m in \u001b[0;36mget_handle\u001b[0;34m(path_or_buf, mode, encoding, compression, memory_map, is_text, errors, storage_options)\u001b[0m\n\u001b[1;32m    854\u001b[0m         \u001b[0;32mif\u001b[0m \u001b[0mioargs\u001b[0m\u001b[0;34m.\u001b[0m\u001b[0mencoding\u001b[0m \u001b[0;32mand\u001b[0m \u001b[0;34m\"b\"\u001b[0m \u001b[0;32mnot\u001b[0m \u001b[0;32min\u001b[0m \u001b[0mioargs\u001b[0m\u001b[0;34m.\u001b[0m\u001b[0mmode\u001b[0m\u001b[0;34m:\u001b[0m\u001b[0;34m\u001b[0m\u001b[0;34m\u001b[0m\u001b[0m\n\u001b[1;32m    855\u001b[0m             \u001b[0;31m# Encoding\u001b[0m\u001b[0;34m\u001b[0m\u001b[0;34m\u001b[0m\u001b[0m\n\u001b[0;32m--> 856\u001b[0;31m             handle = open(\n\u001b[0m\u001b[1;32m    857\u001b[0m                 \u001b[0mhandle\u001b[0m\u001b[0;34m,\u001b[0m\u001b[0;34m\u001b[0m\u001b[0;34m\u001b[0m\u001b[0m\n\u001b[1;32m    858\u001b[0m                 \u001b[0mioargs\u001b[0m\u001b[0;34m.\u001b[0m\u001b[0mmode\u001b[0m\u001b[0;34m,\u001b[0m\u001b[0;34m\u001b[0m\u001b[0;34m\u001b[0m\u001b[0m\n",
            "\u001b[0;31mFileNotFoundError\u001b[0m: [Errno 2] No such file or directory: '/content/drive/MyDrive/reco2/train_df_encoded.csv'"
          ]
        }
      ],
      "id": "3ZEAzHuPH5zi"
    },
    {
      "cell_type": "code",
      "source": [
        "ds = FMds2(df)\n",
        "\n",
        "#%%\n",
        "#del df\n",
        "#%%\n",
        "train_size = int(0.8 * len(ds))  # 80% for training\n",
        "val_size = len(ds) - train_size  # Remaining 20% for validation\n",
        "train_dataset, val_dataset = random_split(ds, [train_size, val_size])\n",
        "del ds\n",
        "#%%\n",
        "#%%\n",
        "model = RCM()\n",
        "#model =RCM.load_from_checkpoint('/content/drive/MyDrive/reco2/cp3/FM-epoch=02-val_loss=0.48.ckpt')\n",
        "trainer = pl.Trainer(num_sanity_val_steps=0, max_epochs=150,fast_dev_run=False, callbacks=[pl.callbacks.ModelCheckpoint\n",
        "                                                                (monitor='val_auc',dirpath='/content/drive/MyDrive/reco2/cp2',filename='FM-{epoch:02d}-{val_loss:.2f}',save_top_k=3,mode='min')])\n",
        "trainer.fit(model, train_dataloaders=DataLoader(train_dataset, batch_size=512, num_workers=2), val_dataloaders=DataLoader(val_dataset, batch_size=512, num_workers=2))#,ckpt_path='/content/drive/MyDrive/reco2/cp2/FM-epoch=19-val_loss=0.81.ckpt')\n",
        "print('done')"
      ],
      "metadata": {
        "id": "m5WpuQUQzM45",
        "colab": {
          "base_uri": "https://localhost:8080/",
          "height": 550,
          "referenced_widgets": [
            "f1fc0feff70b4d2db1c5ff77b35a2d15",
            "65556c1722c84ef1865f2f9e8906963a",
            "dcf5b7c0ee8945b298a57d7566024a12",
            "c44d904d5bea400289cc87a9c43454f6",
            "e5522f0f1ba343fc98505809d970fa48",
            "67b5a1ec25394b8d830455bd70552ed2",
            "e3081959b00b49b1a9dd9b3c65448df8",
            "a501c50d9aaa44b3add000d7eac5b847",
            "556a6444e39344ba827dddfcac19ce34",
            "e3007a02a6464c8298563356329cf7b2",
            "c858bb839c4c4ba18d8c5138cebc4281"
          ]
        },
        "outputId": "11237ad9-94c6-482a-ccf5-8a3c4f7d3e90",
        "_kg_hide-output": false,
        "execution": {
          "iopub.status.busy": "2024-02-28T19:58:13.296852Z",
          "iopub.execute_input": "2024-02-28T19:58:13.300340Z"
        },
        "trusted": true
      },
      "execution_count": null,
      "outputs": [
        {
          "output_type": "stream",
          "name": "stdout",
          "text": [
            "['browser_platform_DESK', 'browser_platform_PHON', 'browser_platform_TBLT', 'browser_platform_TV', 'os_family_0', 'os_family_1', 'os_family_2', 'os_family_3', 'os_family_4', 'os_family_5', 'os_family_6', 'country_code_+100', 'country_code_+200', 'country_code_+300', 'country_code_+530', 'country_code_-300', 'country_code_-400', 'country_code_-500', 'country_code_-600', 'country_code_-700', 'country_code_24', 'country_code_250', 'country_code_301/240', 'country_code_330/234', 'country_code_361', 'country_code_405', 'country_code_417', 'country_code_559', 'country_code_606', 'country_code_630/331', 'country_code_631/934', 'country_code_641', 'country_code_68', 'country_code_712', 'country_code_719', 'country_code_732/848', 'country_code_76', 'country_code_77', 'country_code_787/939', 'country_code_806', 'country_code_83', 'country_code_90', 'country_code_905', 'country_code_912', 'country_code_925', 'country_code_95', 'country_code_99', 'country_code_AE', 'country_code_AF', 'country_code_AG', 'country_code_AI', 'country_code_AL', 'country_code_AM', 'country_code_AMERICA/CHICAGO', 'country_code_AMERICA/MONTREAL', 'country_code_AMERICA/NEW_YORK', 'country_code_AMERICA/TORONTO', 'country_code_AO', 'country_code_AR', 'country_code_AS', 'country_code_AT', 'country_code_AU', 'country_code_AW', 'country_code_AZ', 'country_code_BA', 'country_code_BB', 'country_code_BD', 'country_code_BE', 'country_code_BF', 'country_code_BG', 'country_code_BH', 'country_code_BI', 'country_code_BJ', 'country_code_BM', 'country_code_BN', 'country_code_BO', 'country_code_BQ', 'country_code_BR', 'country_code_BS', 'country_code_BT', 'country_code_BW', 'country_code_BY', 'country_code_BZ', 'country_code_CA', 'country_code_CD', 'country_code_CF', 'country_code_CH', 'country_code_CI', 'country_code_CK', 'country_code_CL', 'country_code_CM', 'country_code_CN', 'country_code_CO', 'country_code_CR', 'country_code_CU', 'country_code_CW', 'country_code_CY', 'country_code_CZ', 'country_code_DE', 'country_code_DJ', 'country_code_DK', 'country_code_DM', 'country_code_DO', 'country_code_DZ', 'country_code_EC', 'country_code_EE', 'country_code_EG', 'country_code_ES', 'country_code_ET', 'country_code_EU', 'country_code_EUROPE/ATHENS', 'country_code_EUROPE/BUDAPEST', 'country_code_EUROPE/LONDON', 'country_code_FI', 'country_code_FJ', 'country_code_FM', 'country_code_FO', 'country_code_FR', 'country_code_GB', 'country_code_GD', 'country_code_GE', 'country_code_GF', 'country_code_GG', 'country_code_GH', 'country_code_GI', 'country_code_GL', 'country_code_GM', 'country_code_GN', 'country_code_GP', 'country_code_GQ', 'country_code_GR', 'country_code_GT', 'country_code_GU', 'country_code_GY', 'country_code_HK', 'country_code_HN', 'country_code_HR', 'country_code_HT', 'country_code_HU', 'country_code_ID', 'country_code_IE', 'country_code_IL', 'country_code_IM', 'country_code_IN', 'country_code_IQ', 'country_code_IR', 'country_code_IS', 'country_code_IT', 'country_code_JE', 'country_code_JM', 'country_code_JO', 'country_code_JP', 'country_code_KE', 'country_code_KG', 'country_code_KH', 'country_code_KI', 'country_code_KN', 'country_code_KR', 'country_code_KW', 'country_code_KY', 'country_code_KZ', 'country_code_LA', 'country_code_LB', 'country_code_LC', 'country_code_LI', 'country_code_LK', 'country_code_LR', 'country_code_LS', 'country_code_LT', 'country_code_LU', 'country_code_LV', 'country_code_LY', 'country_code_MA', 'country_code_MD', 'country_code_ME', 'country_code_MF', 'country_code_MG', 'country_code_MH', 'country_code_MK', 'country_code_ML', 'country_code_MM', 'country_code_MN', 'country_code_MO', 'country_code_MP', 'country_code_MQ', 'country_code_MR', 'country_code_MT', 'country_code_MU', 'country_code_MV', 'country_code_MW', 'country_code_MX', 'country_code_MY', 'country_code_MZ', 'country_code_N', 'country_code_NC', 'country_code_NE', 'country_code_NG', 'country_code_NI', 'country_code_NL', 'country_code_NO', 'country_code_NP', 'country_code_NR', 'country_code_NZ', 'country_code_OM', 'country_code_PA', 'country_code_PE', 'country_code_PF', 'country_code_PG', 'country_code_PH', 'country_code_PK', 'country_code_PL', 'country_code_PM', 'country_code_PR', 'country_code_PS', 'country_code_PT', 'country_code_PW', 'country_code_PY', 'country_code_QA', 'country_code_RO', 'country_code_RS', 'country_code_RU', 'country_code_RW', 'country_code_SA', 'country_code_SB', 'country_code_SC', 'country_code_SD', 'country_code_SE', 'country_code_SG', 'country_code_SI', 'country_code_SK', 'country_code_SL', 'country_code_SN', 'country_code_SO', 'country_code_SR', 'country_code_SS', 'country_code_SV', 'country_code_SX', 'country_code_SY', 'country_code_SZ', 'country_code_TC', 'country_code_TD', 'country_code_TG', 'country_code_TH', 'country_code_TJ', 'country_code_TM', 'country_code_TN', 'country_code_TO', 'country_code_TR', 'country_code_TT', 'country_code_TW', 'country_code_TZ', 'country_code_UA', 'country_code_UG', 'country_code_US', 'country_code_UY', 'country_code_UZ', 'country_code_VC', 'country_code_VE', 'country_code_VG', 'country_code_VI', 'country_code_VN', 'country_code_VU', 'country_code_WS', 'country_code_Y', 'country_code_YE', 'country_code_ZA', 'country_code_ZM', 'country_code_ZW', 'country_code_nan', 'day_of_week_0', 'day_of_week_1', 'day_of_week_2', 'day_of_week_3', 'day_of_week_4', 'day_of_week_5', 'day_of_week_6', 'time_of_day_0', 'time_of_day_1', 'time_of_day_2', 'time_of_day_3', 'time_of_day_4', 'time_of_day_5', 'time_of_day_6', 'time_of_day_7', 'time_of_day_8', 'time_of_day_9', 'time_of_day_10', 'time_of_day_11', 'time_of_day_12', 'time_of_day_13', 'time_of_day_14', 'time_of_day_15', 'time_of_day_16', 'time_of_day_17', 'time_of_day_18', 'time_of_day_19', 'time_of_day_20', 'time_of_day_21', 'time_of_day_22', 'time_of_day_23', 'gmt_offset_-1100', 'gmt_offset_-1000', 'gmt_offset_-900', 'gmt_offset_-800', 'gmt_offset_-700', 'gmt_offset_-600', 'gmt_offset_-500', 'gmt_offset_-400', 'gmt_offset_-300', 'gmt_offset_-230', 'gmt_offset_-200', 'gmt_offset_-1', 'gmt_offset_0', 'gmt_offset_100', 'gmt_offset_200', 'gmt_offset_300', 'gmt_offset_400', 'gmt_offset_430', 'gmt_offset_500', 'gmt_offset_530', 'gmt_offset_545', 'gmt_offset_600', 'gmt_offset_630', 'gmt_offset_700', 'gmt_offset_800', 'gmt_offset_900', 'gmt_offset_930', 'gmt_offset_1000', 'gmt_offset_1030', 'gmt_offset_1100', 'gmt_offset_1200', 'gmt_offset_1300', 'gmt_offset_9999']\n"
          ]
        },
        {
          "output_type": "stream",
          "name": "stderr",
          "text": [
            "INFO:pytorch_lightning.utilities.rank_zero:GPU available: False, used: False\n",
            "INFO:pytorch_lightning.utilities.rank_zero:TPU available: False, using: 0 TPU cores\n",
            "INFO:pytorch_lightning.utilities.rank_zero:IPU available: False, using: 0 IPUs\n",
            "INFO:pytorch_lightning.utilities.rank_zero:HPU available: False, using: 0 HPUs\n",
            "/usr/local/lib/python3.10/dist-packages/pytorch_lightning/callbacks/model_checkpoint.py:652: Checkpoint directory /content/drive/MyDrive/reco2/cp2 exists and is not empty.\n",
            "INFO:pytorch_lightning.callbacks.model_summary:\n",
            "   | Name           | Type        | Params\n",
            "------------------------------------------------\n",
            "0  | placement_id   | Embedding   | 11.2 K\n",
            "1  | syndicator     | Embedding   | 18.8 K\n",
            "2  | region         | Embedding   | 8.3 K \n",
            "3  | target_id      | Embedding   | 820 K \n",
            "4  | source         | Embedding   | 1.5 M \n",
            "5  | campaign       | Embedding   | 228 K \n",
            "6  | fc_user        | Linear      | 21.6 K\n",
            "7  | fc_user_full   | Linear      | 4.7 K \n",
            "8  | fc_item        | Linear      | 4.4 K \n",
            "9  | fc_item_full   | Linear      | 8.0 K \n",
            "10 | deep           | Linear      | 16.5 K\n",
            "11 | validation_auc | BinaryAUROC | 0     \n",
            "12 | output         | Linear      | 129   \n",
            "------------------------------------------------\n",
            "2.6 M     Trainable params\n",
            "0         Non-trainable params\n",
            "2.6 M     Total params\n",
            "10.530    Total estimated model params size (MB)\n"
          ]
        },
        {
          "output_type": "display_data",
          "data": {
            "text/plain": [
              "Training: |          | 0/? [00:00<?, ?it/s]"
            ],
            "application/vnd.jupyter.widget-view+json": {
              "version_major": 2,
              "version_minor": 0,
              "model_id": "f1fc0feff70b4d2db1c5ff77b35a2d15"
            }
          },
          "metadata": {}
        }
      ],
      "id": "m5WpuQUQzM45"
    },
    {
      "cell_type": "code",
      "source": [
        "model =RCM.load_from_checkpoint('/content/drive/MyDrive/reco2/cp2/FM-epoch=02-val_loss=0.47.ckpt')\n",
        "test_df = pd.read_csv('/content/drive/MyDrive/reco2/test_df_encoded.csv')\n",
        "\n",
        "model.eval()\n",
        "with torch.no_grad():  # Disable gradient computation for inference\n",
        "        user_numerical_columns = ['page_view_start_time', 'user_recs', 'user_clicks', 'user_target_recs']\n",
        "        item_numerical_columns = [    'empiric_calibrated_recs','empiric_clicks']\n",
        "        user_oh_cat_columns = list(pd.read_csv('/content/drive/MyDrive/reco2/user_oh_col')['column'])\n",
        "        item_oh_cat_columns = list(pd.read_csv('/content/drive/MyDrive/reco2/item_oh_col')['column'])\n",
        "        user = test_df[user_oh_cat_columns + user_numerical_columns].astype(np.float32)\n",
        "        item = test_df[item_oh_cat_columns + item_numerical_columns].astype(np.float32)\n",
        "        target_id = test_df['target_id_hash'].astype(int)\n",
        "        source = test_df['source_id_hash'].astype(int)\n",
        "        campaign = test_df['campaign_id_hash'].astype(int)\n",
        "        #self.user_id = ds_df['user_id_hash']\n",
        "        region = test_df['region'].astype(int)\n",
        "        syndicator = test_df['syndicator_id_hash'].astype(int)\n",
        "        placement_id = test_df['placement_id_hash'].astype(int)\n",
        "        x = (torch.tensor(user.values), torch.tensor(region.values), torch.tensor(item.values), torch.tensor(target_id.values), torch.tensor(source.values), torch.tensor(campaign.values), torch.tensor(syndicator.values), torch.tensor(placement_id.values))\n",
        "        predictions = torch.sigmoid(model(x))\n",
        "        p_df = pd.DataFrame(predictions, columns=['is_click'])\n",
        "        p_df.to_csv('/content/drive/MyDrive/reco2/predictions_colab.csv', index=False)"
      ],
      "metadata": {
        "id": "0GmUvpqVHg0q"
      },
      "execution_count": 47,
      "outputs": [],
      "id": "0GmUvpqVHg0q"
    },
    {
      "cell_type": "code",
      "source": [
        "import pandas as pd\n",
        "p_df = pd.read_csv('/content/drive/MyDrive/reco2/predictions_colab.csv')\n",
        "#p_df['Predicted'] = p_df['is_click']\n",
        "p_df.reset_index(inplace=True)\n",
        "p_df.columns =['Id','Predicted']\n",
        "p_df.to_csv('/content/drive/MyDrive/reco2/my_submission_colab_loss47.csv', index=False)"
      ],
      "metadata": {
        "id": "a7f2578bdc23cdf4"
      },
      "execution_count": 49,
      "outputs": [],
      "id": "a7f2578bdc23cdf4"
    }
  ]
}